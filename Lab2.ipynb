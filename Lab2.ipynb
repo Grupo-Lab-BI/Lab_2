{
 "cells": [
  {
   "cell_type": "markdown",
   "metadata": {},
   "source": [
    "**Proyecto- Segmentación en grupos de acuerdo a características de pacientes**"
   ]
  },
  {
   "cell_type": "markdown",
   "metadata": {},
   "source": [
    "Integrantes: Maria Fernanda De La Hoz, Silvana Sandoval y Gabriela Soler \n"
   ]
  },
  {
   "cell_type": "markdown",
   "metadata": {},
   "source": [
    "Este proyecto tiene el objetivo de incorporar herramientas de Inteligencia Artificial para incrementar la eficiencia de la prestación de servicios a los usuarios en las diferentes IPS asociadas, teniendo en cuenta que en el contexto del triage, la agrupación puede ser útil para la toma de decisiones."
   ]
  },
  {
   "cell_type": "markdown",
   "metadata": {},
   "source": [
    "**Entendimiento de los datos**"
   ]
  },
  {
   "cell_type": "code",
   "execution_count": 125,
   "metadata": {},
   "outputs": [
    {
     "name": "stdout",
     "output_type": "stream",
     "text": [
      "   Grupo  Sexo  Edad  Modo_Llegada  Lesion  Queja_Principal  Estado_Mental  \\\n",
      "0      2     2    49             2       1  ant. chest pain              1   \n",
      "1      2     2    30             4       1         headache              1   \n",
      "2      2     1    61             3       2  ant. chest pain              1   \n",
      "3      2     2    61             3       1         headache              1   \n",
      "4      1     2    67             3       1    fever & chill              1   \n",
      "\n",
      "   Dolor dolor_NRS    SBP  ...    BT  Saturacion  KTAS_enfermera  \\\n",
      "0      1         2  150.0  ...  36.2        98.0               2   \n",
      "1      1         4  140.0  ...  36.3        99.0               3   \n",
      "2      1         3  100.0  ...  36.4        98.0               4   \n",
      "3      1         4  120.0  ...  36.5        99.0               4   \n",
      "4      0    #BOÃ!  143.0  ...  38.1         NaN               4   \n",
      "\n",
      "                Diagnostico_En_Urgencias  Disposicion  KTAS_experto  \\\n",
      "0                   Ischaemic chest pain            2             2   \n",
      "1  Subarachnoid haemorrhage, unspecified            7             3   \n",
      "2      Contusion of front wall of thorax            1             4   \n",
      "3                               Headache            1             3   \n",
      "4                                  Fever            1             2   \n",
      "\n",
      "  Grupo_De_Error  Duracion_Estancia_Min  Duracion_KTAS_Min  Error_Triaje  \n",
      "0              0                   1591               2,00             0  \n",
      "1              0                    211               3,00             0  \n",
      "2              0                    119               2,00             0  \n",
      "3              4                    414               2,00             2  \n",
      "4              1                    267               3,60             2  \n",
      "\n",
      "[5 rows x 23 columns]\n"
     ]
    }
   ],
   "source": [
    "import pandas as pd\n",
    "import matplotlib.pyplot as plt\n",
    "\n",
    "data = pd.read_csv(\"202420_Laboratorio 2 - Agrupación_202420_Laboratorio_2_-_Agrupación_data.csv\", encoding=\"latin1\", sep=\",\")\n",
    "print(data.head())"
   ]
  },
  {
   "cell_type": "markdown",
   "metadata": {},
   "source": [
    "Vamos a ver el número de registros y de columnas con el que contamos"
   ]
  },
  {
   "cell_type": "code",
   "execution_count": 126,
   "metadata": {},
   "outputs": [
    {
     "data": {
      "text/plain": [
       "(1000, 23)"
      ]
     },
     "execution_count": 126,
     "metadata": {},
     "output_type": "execute_result"
    }
   ],
   "source": [
    "data.shape"
   ]
  },
  {
   "cell_type": "code",
   "execution_count": 127,
   "metadata": {},
   "outputs": [
    {
     "name": "stdout",
     "output_type": "stream",
     "text": [
      "             Grupo         Sexo         Edad  Modo_Llegada     Lesion  \\\n",
      "count  1000.000000  1000.000000  1000.000000   1000.000000  1000.0000   \n",
      "mean      1.450000     1.514000    53.892000      2.811000     1.2000   \n",
      "std       0.497743     0.500054    19.826483      0.796186     0.4002   \n",
      "min       1.000000     1.000000    16.000000      1.000000     1.0000   \n",
      "25%       1.000000     1.000000    36.000000      2.000000     1.0000   \n",
      "50%       1.000000     2.000000    56.000000      3.000000     1.0000   \n",
      "75%       2.000000     2.000000    70.250000      3.000000     1.0000   \n",
      "max       2.000000     2.000000    94.000000      7.000000     2.0000   \n",
      "\n",
      "       Estado_Mental        Dolor         SBP         DBP          HR  \\\n",
      "count    1000.000000  1000.000000  983.000000  979.000000  988.000000   \n",
      "mean        1.103000     0.562000  133.485249   79.566905   84.400810   \n",
      "std         0.431946     0.496389   27.156136   15.174593   16.297428   \n",
      "min         1.000000     0.000000   50.000000   31.000000   32.000000   \n",
      "25%         1.000000     0.000000  114.000000   70.000000   73.000000   \n",
      "50%         1.000000     1.000000  130.000000   80.000000   82.000000   \n",
      "75%         1.000000     1.000000  150.000000   90.000000   96.000000   \n",
      "max         4.000000     1.000000  275.000000  160.000000  148.000000   \n",
      "\n",
      "               RR          BT  Saturacion  KTAS_enfermera  Disposicion  \\\n",
      "count  985.000000  989.000000  444.000000     1000.000000  1000.000000   \n",
      "mean    19.450761   36.562993   97.047297        3.328000     1.610000   \n",
      "std      2.069882    0.519699    4.761112        0.862067     1.161572   \n",
      "min     14.000000   35.000000   20.000000        1.000000     1.000000   \n",
      "25%     18.000000   36.200000   97.000000        3.000000     1.000000   \n",
      "50%     20.000000   36.500000   98.000000        3.000000     1.000000   \n",
      "75%     20.000000   36.800000   99.000000        4.000000     2.000000   \n",
      "max     30.000000   39.800000  100.000000        5.000000     7.000000   \n",
      "\n",
      "       KTAS_experto  Grupo_De_Error  Duracion_Estancia_Min  Error_Triaje  \n",
      "count   1000.000000     1000.000000            1000.000000   1000.000000  \n",
      "mean       3.260000        0.569000           12792.480000      0.253000  \n",
      "std        0.865534        1.587375           87721.151446      0.630387  \n",
      "min        1.000000        0.000000               0.000000      0.000000  \n",
      "25%        3.000000        0.000000             132.750000      0.000000  \n",
      "50%        3.000000        0.000000             270.500000      0.000000  \n",
      "75%        4.000000        0.000000             620.000000      0.000000  \n",
      "max        5.000000        9.000000          709510.000000      2.000000  \n"
     ]
    }
   ],
   "source": [
    "print(data.describe())"
   ]
  },
  {
   "cell_type": "markdown",
   "metadata": {},
   "source": [
    "**Análisis de las variables para la implementación del proyecto**"
   ]
  },
  {
   "cell_type": "markdown",
   "metadata": {},
   "source": [
    "*Variables Categóricas:*\n",
    "\n",
    "Grupo: Es una variable importante porque parece clasificar a los pacientes en grupos que queremos optimizar.\n",
    "\n",
    "Sexo, Modo_Llegada, Lesión, Estado_Mental, Dolor: Estas variables categorizadas probablemente influyan en la clasificación y deberían codificarse adecuadamente.\n",
    "\n",
    "*Variables de Severidad:*\n",
    "KTAS_Enfermera y KTAS_Experto: Estas escalas son importantes para evaluar la urgencia de los pacientes. Es clave tenerlas en cuenta en el modelo de agrupamiento.\n",
    "\n",
    "Disposición: Esta variable refleja qué pasó con el paciente después de la evaluación, lo que podría ser útil para encontrar patrones en los resultados del tratamiento.\n",
    "\n",
    "*Variables Numéricas:*\n",
    "\n",
    "Las variables fisiológicas como SBP (Presión Arterial Sistólica), DBP (Presión Diastólica), HR (Frecuencia Cardíaca), RR (Frecuencia Respiratoria), BT (Temperatura Corporal), y Saturación (Oxígeno) son críticas para describir el estado físico del paciente.\n",
    "\n",
    "Variables de tiempo como Duración_Estancia_Min y Duración_KTAS_Min también son importantes porque podrían ayudar a analizar la eficiencia de la atención.\n",
    "\n",
    "*Variables que podrían tener ruido:*\n",
    "\n",
    "Grupo_Error, Error_Triaje: Si estamos trabajando para hacer agrupamientos basados en la condición de los pacientes, estas columnas relacionadas con errores podrían introducir ruido o ser útiles para analizar el rendimiento de los grupos predichos."
   ]
  },
  {
   "cell_type": "markdown",
   "metadata": {},
   "source": [
    "**Manejo de variables faltantes**"
   ]
  },
  {
   "cell_type": "markdown",
   "metadata": {},
   "source": [
    "Para las variables críticas (por ejemplo, las fisiológicas y de severidad), podemos usar imputación. Es por esto que identificaremos cuáles columnas tienen valores faltantes y cuántos faltan:"
   ]
  },
  {
   "cell_type": "code",
   "execution_count": 128,
   "metadata": {},
   "outputs": [
    {
     "data": {
      "text/plain": [
       "Grupo                         0\n",
       "Sexo                          0\n",
       "Edad                          0\n",
       "Modo_Llegada                  0\n",
       "Lesion                        0\n",
       "Queja_Principal               0\n",
       "Estado_Mental                 0\n",
       "Dolor                         0\n",
       "dolor_NRS                     0\n",
       "SBP                          17\n",
       "DBP                          21\n",
       "HR                           12\n",
       "RR                           15\n",
       "BT                           11\n",
       "Saturacion                  556\n",
       "KTAS_enfermera                0\n",
       "Diagnostico_En_Urgencias      1\n",
       "Disposicion                   0\n",
       "KTAS_experto                  0\n",
       "Grupo_De_Error                0\n",
       "Duracion_Estancia_Min         0\n",
       "Duracion_KTAS_Min             0\n",
       "Error_Triaje                  0\n",
       "dtype: int64"
      ]
     },
     "execution_count": 128,
     "metadata": {},
     "output_type": "execute_result"
    }
   ],
   "source": [
    "data.isnull().sum()"
   ]
  },
  {
   "cell_type": "markdown",
   "metadata": {},
   "source": [
    "Para las variables fisiológicas con pocos valores faltantes (SBP, DBP, HR, RR, BT):\n",
    "Podemos usar imputación con la mediana. La mediana es robusta a valores atípicos y adecuada para variables fisiológicas.\n",
    "\n",
    "Para la variable Saturacion, que tiene más del 50% de los datos faltantes:\n",
    "Podríamos considerar imputar con la mediana también, pero como tiene demasiados valores faltantes, otra opción sería eliminar esta columna si no es esencial para el análisis.\n",
    "\n",
    "Para Diagnostico_En_Urgencias, que tiene solo un valor faltante:\n",
    "Imputar con el valor más frecuente será una estrategia razonable."
   ]
  },
  {
   "cell_type": "code",
   "execution_count": 129,
   "metadata": {},
   "outputs": [],
   "source": [
    "#Iniciaremos creando una copia de los datos para realizar un preprocesamiento\n",
    "data_copy = data.copy()"
   ]
  },
  {
   "cell_type": "code",
   "execution_count": 130,
   "metadata": {},
   "outputs": [
    {
     "name": "stderr",
     "output_type": "stream",
     "text": [
      "C:\\Users\\silva\\AppData\\Local\\Temp\\ipykernel_10140\\3558805917.py:2: FutureWarning: A value is trying to be set on a copy of a DataFrame or Series through chained assignment using an inplace method.\n",
      "The behavior will change in pandas 3.0. This inplace method will never work because the intermediate object on which we are setting values always behaves as a copy.\n",
      "\n",
      "For example, when doing 'df[col].method(value, inplace=True)', try using 'df.method({col: value}, inplace=True)' or df[col] = df[col].method(value) instead, to perform the operation inplace on the original object.\n",
      "\n",
      "\n",
      "  data_copy['SBP'].fillna(data_copy['SBP'].median(), inplace=True)\n",
      "C:\\Users\\silva\\AppData\\Local\\Temp\\ipykernel_10140\\3558805917.py:3: FutureWarning: A value is trying to be set on a copy of a DataFrame or Series through chained assignment using an inplace method.\n",
      "The behavior will change in pandas 3.0. This inplace method will never work because the intermediate object on which we are setting values always behaves as a copy.\n",
      "\n",
      "For example, when doing 'df[col].method(value, inplace=True)', try using 'df.method({col: value}, inplace=True)' or df[col] = df[col].method(value) instead, to perform the operation inplace on the original object.\n",
      "\n",
      "\n",
      "  data_copy['DBP'].fillna(data_copy['DBP'].median(), inplace=True)\n",
      "C:\\Users\\silva\\AppData\\Local\\Temp\\ipykernel_10140\\3558805917.py:4: FutureWarning: A value is trying to be set on a copy of a DataFrame or Series through chained assignment using an inplace method.\n",
      "The behavior will change in pandas 3.0. This inplace method will never work because the intermediate object on which we are setting values always behaves as a copy.\n",
      "\n",
      "For example, when doing 'df[col].method(value, inplace=True)', try using 'df.method({col: value}, inplace=True)' or df[col] = df[col].method(value) instead, to perform the operation inplace on the original object.\n",
      "\n",
      "\n",
      "  data_copy['HR'].fillna(data_copy['HR'].median(), inplace=True)\n",
      "C:\\Users\\silva\\AppData\\Local\\Temp\\ipykernel_10140\\3558805917.py:5: FutureWarning: A value is trying to be set on a copy of a DataFrame or Series through chained assignment using an inplace method.\n",
      "The behavior will change in pandas 3.0. This inplace method will never work because the intermediate object on which we are setting values always behaves as a copy.\n",
      "\n",
      "For example, when doing 'df[col].method(value, inplace=True)', try using 'df.method({col: value}, inplace=True)' or df[col] = df[col].method(value) instead, to perform the operation inplace on the original object.\n",
      "\n",
      "\n",
      "  data_copy['RR'].fillna(data_copy['RR'].median(), inplace=True)\n",
      "C:\\Users\\silva\\AppData\\Local\\Temp\\ipykernel_10140\\3558805917.py:6: FutureWarning: A value is trying to be set on a copy of a DataFrame or Series through chained assignment using an inplace method.\n",
      "The behavior will change in pandas 3.0. This inplace method will never work because the intermediate object on which we are setting values always behaves as a copy.\n",
      "\n",
      "For example, when doing 'df[col].method(value, inplace=True)', try using 'df.method({col: value}, inplace=True)' or df[col] = df[col].method(value) instead, to perform the operation inplace on the original object.\n",
      "\n",
      "\n",
      "  data_copy['BT'].fillna(data_copy['BT'].median(), inplace=True)\n",
      "C:\\Users\\silva\\AppData\\Local\\Temp\\ipykernel_10140\\3558805917.py:9: FutureWarning: A value is trying to be set on a copy of a DataFrame or Series through chained assignment using an inplace method.\n",
      "The behavior will change in pandas 3.0. This inplace method will never work because the intermediate object on which we are setting values always behaves as a copy.\n",
      "\n",
      "For example, when doing 'df[col].method(value, inplace=True)', try using 'df.method({col: value}, inplace=True)' or df[col] = df[col].method(value) instead, to perform the operation inplace on the original object.\n",
      "\n",
      "\n",
      "  data_copy['Saturacion'].fillna(data_copy['Saturacion'].median(), inplace=True)\n",
      "C:\\Users\\silva\\AppData\\Local\\Temp\\ipykernel_10140\\3558805917.py:12: FutureWarning: A value is trying to be set on a copy of a DataFrame or Series through chained assignment using an inplace method.\n",
      "The behavior will change in pandas 3.0. This inplace method will never work because the intermediate object on which we are setting values always behaves as a copy.\n",
      "\n",
      "For example, when doing 'df[col].method(value, inplace=True)', try using 'df.method({col: value}, inplace=True)' or df[col] = df[col].method(value) instead, to perform the operation inplace on the original object.\n",
      "\n",
      "\n",
      "  data_copy['Diagnostico_En_Urgencias'].fillna(data_copy['Diagnostico_En_Urgencias'].mode()[0], inplace=True)\n"
     ]
    }
   ],
   "source": [
    "# Imputar las variables fisiológicas con la mediana\n",
    "data_copy['SBP'].fillna(data_copy['SBP'].median(), inplace=True)\n",
    "data_copy['DBP'].fillna(data_copy['DBP'].median(), inplace=True)\n",
    "data_copy['HR'].fillna(data_copy['HR'].median(), inplace=True)\n",
    "data_copy['RR'].fillna(data_copy['RR'].median(), inplace=True)\n",
    "data_copy['BT'].fillna(data_copy['BT'].median(), inplace=True)\n",
    "\n",
    "# Para la saturación, decidimos imputar con la mediana\n",
    "data_copy['Saturacion'].fillna(data_copy['Saturacion'].median(), inplace=True)\n",
    "\n",
    "# Imputar el Diagnóstico en Urgencias con el valor más frecuente\n",
    "data_copy['Diagnostico_En_Urgencias'].fillna(data_copy['Diagnostico_En_Urgencias'].mode()[0], inplace=True)\n"
   ]
  },
  {
   "cell_type": "code",
   "execution_count": 131,
   "metadata": {},
   "outputs": [
    {
     "name": "stdout",
     "output_type": "stream",
     "text": [
      "Grupo                       0\n",
      "Sexo                        0\n",
      "Edad                        0\n",
      "Modo_Llegada                0\n",
      "Lesion                      0\n",
      "Queja_Principal             0\n",
      "Estado_Mental               0\n",
      "Dolor                       0\n",
      "dolor_NRS                   0\n",
      "SBP                         0\n",
      "DBP                         0\n",
      "HR                          0\n",
      "RR                          0\n",
      "BT                          0\n",
      "Saturacion                  0\n",
      "KTAS_enfermera              0\n",
      "Diagnostico_En_Urgencias    0\n",
      "Disposicion                 0\n",
      "KTAS_experto                0\n",
      "Grupo_De_Error              0\n",
      "Duracion_Estancia_Min       0\n",
      "Duracion_KTAS_Min           0\n",
      "Error_Triaje                0\n",
      "dtype: int64\n"
     ]
    }
   ],
   "source": [
    "print(data_copy.isnull().sum())"
   ]
  },
  {
   "cell_type": "markdown",
   "metadata": {},
   "source": [
    "Ya que solucionamos el problema de las variables faltantes, procederemos al tratamiento de las variables categóricas. Como los algoritmos de agrupamiento requieren variables numéricas, vamos a convertir las variables categóricas a un formato numérico."
   ]
  },
  {
   "cell_type": "markdown",
   "metadata": {},
   "source": [
    "Utilizaremos Label Encoding para variables ordinales como KTAS_Enfermera, Estado_Mental, y Disposición, donde los valores tienen un orden implícito, y One-Hot Encoding para variables nominales como Modo_Llegada y Lesion."
   ]
  },
  {
   "cell_type": "code",
   "execution_count": 132,
   "metadata": {},
   "outputs": [],
   "source": [
    "from sklearn.preprocessing import LabelEncoder\n",
    "\n",
    "le = LabelEncoder()\n",
    "data_copy['KTAS_Enfermera'] = le.fit_transform(data_copy['KTAS_enfermera'])\n",
    "data_copy['Estado_Mental'] = le.fit_transform(data_copy['Estado_Mental'])\n",
    "data_copy['Disposición'] = le.fit_transform(data_copy['Disposicion'])\n",
    "\n",
    "data_copy = pd.get_dummies(data, columns=['Modo_Llegada', 'Lesion', 'Sexo'], drop_first=True)"
   ]
  },
  {
   "cell_type": "code",
   "execution_count": 133,
   "metadata": {},
   "outputs": [
    {
     "name": "stdout",
     "output_type": "stream",
     "text": [
      "   Grupo  Edad  Queja_Principal  Estado_Mental  Dolor dolor_NRS    SBP   DBP  \\\n",
      "0      2    49  ant. chest pain              1      1         2  150.0  90.0   \n",
      "1      2    30         headache              1      1         4  140.0  80.0   \n",
      "2      2    61  ant. chest pain              1      1         3  100.0  60.0   \n",
      "3      2    61         headache              1      1         4  120.0  70.0   \n",
      "4      1    67    fever & chill              1      0    #BOÃ!  143.0  70.0   \n",
      "\n",
      "      HR    RR  ...  Duracion_KTAS_Min  Error_Triaje  Modo_Llegada_2  \\\n",
      "0   92.0  20.0  ...               2,00             0            True   \n",
      "1   76.0  20.0  ...               3,00             0           False   \n",
      "2   84.0  20.0  ...               2,00             0           False   \n",
      "3   76.0  20.0  ...               2,00             2           False   \n",
      "4  130.0  20.0  ...               3,60             2           False   \n",
      "\n",
      "  Modo_Llegada_3  Modo_Llegada_4  Modo_Llegada_5  Modo_Llegada_6  \\\n",
      "0          False           False           False           False   \n",
      "1          False            True           False           False   \n",
      "2           True           False           False           False   \n",
      "3           True           False           False           False   \n",
      "4           True           False           False           False   \n",
      "\n",
      "   Modo_Llegada_7 Lesion_2  Sexo_2  \n",
      "0           False    False    True  \n",
      "1           False    False    True  \n",
      "2           False     True   False  \n",
      "3           False    False    True  \n",
      "4           False    False    True  \n",
      "\n",
      "[5 rows x 28 columns]\n"
     ]
    }
   ],
   "source": [
    "print(data_copy.head())"
   ]
  },
  {
   "cell_type": "markdown",
   "metadata": {},
   "source": [
    "Al revisar los datos podemos ver que hay algunas entradas que tienen \",\" en lugar de \".\", los que generará un problema en la normalización de los datos. Por lo que es necesario remplazar este carácter y convertir el formato del dato a float."
   ]
  },
  {
   "cell_type": "code",
   "execution_count": 134,
   "metadata": {},
   "outputs": [],
   "source": [
    "# Reemplazar comas por puntos en las columnas que contienen números decimales almacenados como texto\n",
    "data_copy['Duracion_KTAS_Min'] = data_copy['Duracion_KTAS_Min'].str.replace(',', '.').astype(float)\n",
    "data_copy['dolor_NRS'] = data_copy['dolor_NRS'].replace(',', '.', regex=True)"
   ]
  },
  {
   "cell_type": "markdown",
   "metadata": {},
   "source": [
    "Ahora procederemos a realizar una normalización de los datos, puesto que las variables numéricas deben estar en una escala común, especialmente si estamos implementando un algoritmo basado en distancias, como K-means. Es por esto, que normalizaremos las variables fisiológicas, de tiempo, y de edad."
   ]
  },
  {
   "cell_type": "code",
   "execution_count": 135,
   "metadata": {},
   "outputs": [
    {
     "name": "stdout",
     "output_type": "stream",
     "text": [
      "   Grupo      Edad  Queja_Principal  Estado_Mental  Dolor dolor_NRS       SBP  \\\n",
      "0      2  0.423077  ant. chest pain              1      1         2  0.444444   \n",
      "1      2  0.179487         headache              1      1         4  0.400000   \n",
      "2      2  0.576923  ant. chest pain              1      1         3  0.222222   \n",
      "3      2  0.576923         headache              1      1         4  0.311111   \n",
      "4      1  0.653846    fever & chill              1      0    #BOÃ!  0.413333   \n",
      "\n",
      "        DBP        HR     RR  ...  Duracion_KTAS_Min  Error_Triaje  \\\n",
      "0  0.457364  0.517241  0.375  ...           0.061087             0   \n",
      "1  0.379845  0.379310  0.375  ...           0.122175             0   \n",
      "2  0.224806  0.448276  0.375  ...           0.061087             0   \n",
      "3  0.302326  0.379310  0.375  ...           0.061087             2   \n",
      "4  0.302326  0.844828  0.375  ...           0.158827             2   \n",
      "\n",
      "   Modo_Llegada_2 Modo_Llegada_3  Modo_Llegada_4  Modo_Llegada_5  \\\n",
      "0            True          False           False           False   \n",
      "1           False          False            True           False   \n",
      "2           False           True           False           False   \n",
      "3           False           True           False           False   \n",
      "4           False           True           False           False   \n",
      "\n",
      "   Modo_Llegada_6  Modo_Llegada_7  Lesion_2  Sexo_2  \n",
      "0           False           False     False    True  \n",
      "1           False           False     False    True  \n",
      "2           False           False      True   False  \n",
      "3           False           False     False    True  \n",
      "4           False           False     False    True  \n",
      "\n",
      "[5 rows x 28 columns]\n"
     ]
    }
   ],
   "source": [
    "from sklearn.preprocessing import MinMaxScaler\n",
    "\n",
    "# Seleccionar las columnas numéricas que queremos normalizar\n",
    "numerical_cols = ['Edad', 'SBP', 'DBP', 'HR', 'RR', 'BT', 'Saturacion', 'Duracion_Estancia_Min', 'Duracion_KTAS_Min']\n",
    "\n",
    "# Inicializar el escalador Min-Max y aplicar\n",
    "scaler = MinMaxScaler()\n",
    "data_copy[numerical_cols] = scaler.fit_transform(data_copy[numerical_cols])\n",
    "\n",
    "# Revisar los datos normalizados\n",
    "print(data_copy.head())"
   ]
  },
  {
   "cell_type": "markdown",
   "metadata": {},
   "source": [
    "Ahora, debido a que vamos a comprabar el número de categorias que hay en las variables categóricas."
   ]
  },
  {
   "cell_type": "code",
   "execution_count": 136,
   "metadata": {},
   "outputs": [
    {
     "data": {
      "text/plain": [
       "Queja_Principal\n",
       "abd pain                               62\n",
       "dizziness                              53\n",
       "dyspnea                                45\n",
       "ant. chest pain                        37\n",
       "fever                                  29\n",
       "                                       ..\n",
       "hand laceration                         1\n",
       "Sexual Abuse of Adult                   1\n",
       "laceration, scalp                       1\n",
       "right lower quadrant abdominal pain     1\n",
       "otalgia, Rt.                            1\n",
       "Name: count, Length: 347, dtype: int64"
      ]
     },
     "execution_count": 136,
     "metadata": {},
     "output_type": "execute_result"
    }
   ],
   "source": [
    "data[\"Queja_Principal\"].value_counts()"
   ]
  },
  {
   "cell_type": "code",
   "execution_count": 137,
   "metadata": {},
   "outputs": [
    {
     "data": {
      "text/plain": [
       "dolor_NRS\n",
       "#BOÃ!    440\n",
       "3         209\n",
       "4         111\n",
       "5         109\n",
       "6          59\n",
       "2          31\n",
       "7          27\n",
       "8           8\n",
       "10          3\n",
       "1           2\n",
       "9           1\n",
       "Name: count, dtype: int64"
      ]
     },
     "execution_count": 137,
     "metadata": {},
     "output_type": "execute_result"
    }
   ],
   "source": [
    "data[\"dolor_NRS\"].value_counts()"
   ]
  },
  {
   "cell_type": "code",
   "execution_count": 138,
   "metadata": {},
   "outputs": [
    {
     "data": {
      "text/plain": [
       "Diagnostico_En_Urgencias\n",
       "Acute gastroenteritis                                   39\n",
       "Headache                                                23\n",
       "Dizziness                                               20\n",
       "Unspecified abdominal pain                              19\n",
       "Ischaemic chest pain                                    17\n",
       "                                                        ..\n",
       "Colon cancer, sigmoid                                    1\n",
       "Postnasal drip syndrome                                  1\n",
       "Other specified diabetes mellitus, with hypoglycemia     1\n",
       "Open wound of finger(s) without damage to nail           1\n",
       "Traumatic secondary and recurrent haemorrhage            1\n",
       "Name: count, Length: 489, dtype: int64"
      ]
     },
     "execution_count": 138,
     "metadata": {},
     "output_type": "execute_result"
    }
   ],
   "source": [
    "data[\"Diagnostico_En_Urgencias\"].value_counts()"
   ]
  },
  {
   "cell_type": "markdown",
   "metadata": {},
   "source": [
    "Ahora, procedemos a contar el número de datos nulos por columna para tener una idea clara de si estos se pueden reemplazar o si,por le contrario, seben ser eliminados."
   ]
  },
  {
   "cell_type": "code",
   "execution_count": 139,
   "metadata": {},
   "outputs": [
    {
     "name": "stdout",
     "output_type": "stream",
     "text": [
      "Valores nulos por columna: \n",
      "Grupo                         0\n",
      "Sexo                          0\n",
      "Edad                          0\n",
      "Modo_Llegada                  0\n",
      "Lesion                        0\n",
      "Queja_Principal               0\n",
      "Estado_Mental                 0\n",
      "Dolor                         0\n",
      "dolor_NRS                     0\n",
      "SBP                          17\n",
      "DBP                          21\n",
      "HR                           12\n",
      "RR                           15\n",
      "BT                           11\n",
      "Saturacion                  556\n",
      "KTAS_enfermera                0\n",
      "Diagnostico_En_Urgencias      1\n",
      "Disposicion                   0\n",
      "KTAS_experto                  0\n",
      "Grupo_De_Error                0\n",
      "Duracion_Estancia_Min         0\n",
      "Duracion_KTAS_Min             0\n",
      "Error_Triaje                  0\n",
      "dtype: int64\n"
     ]
    }
   ],
   "source": [
    "print(\"Valores nulos por columna: \")\n",
    "print(data.isnull().sum())"
   ]
  },
  {
   "cell_type": "markdown",
   "metadata": {},
   "source": [
    "Por último, vamos a ver el porcentaje de datos faltantes para decidir si borrar columnas o reemplazar por medias."
   ]
  },
  {
   "cell_type": "code",
   "execution_count": 140,
   "metadata": {},
   "outputs": [
    {
     "data": {
      "text/plain": [
       "Duracion_Estancia_Min     0.0\n",
       "Sexo                      0.0\n",
       "Modo_Llegada              0.0\n",
       "Lesion                    0.0\n",
       "Estado_Mental             0.0\n",
       "Dolor                     0.0\n",
       "SBP                       1.7\n",
       "DBP                       2.1\n",
       "HR                        1.2\n",
       "RR                        1.5\n",
       "Saturacion               55.6\n",
       "Disposicion               0.0\n",
       "dtype: float64"
      ]
     },
     "execution_count": 140,
     "metadata": {},
     "output_type": "execute_result"
    }
   ],
   "source": [
    "features = [\"Sexo\", \"Modo_Llegada\", \"Lesion\", \"Estado_Mental\", \"Dolor\", \"SBP\", \"DBP\", \"HR\", \"RR\", \"Saturacion\", \"Disposicion\"]\n",
    "\n",
    "data[[\"Duracion_Estancia_Min\"] + features].isnull().sum() / data.shape[0] * 100"
   ]
  },
  {
   "cell_type": "markdown",
   "metadata": {},
   "source": [
    "Ahora, revisaremos los duplicados para tener una idea de cuantos registros serán borrados para evitar sesgos"
   ]
  },
  {
   "cell_type": "code",
   "execution_count": 141,
   "metadata": {},
   "outputs": [
    {
     "name": "stdout",
     "output_type": "stream",
     "text": [
      "Número de filas duplicadas: 33\n"
     ]
    }
   ],
   "source": [
    "duplicate_rows = data.duplicated().sum()\n",
    "print(f\"Número de filas duplicadas: {duplicate_rows}\")"
   ]
  },
  {
   "cell_type": "markdown",
   "metadata": {},
   "source": [
    "Ahora vamos a revisar los outliers, esto con el propósito de saber qué tan extremos son ya que si son demasiado diferentes al resto de los datos, esto puede ocasionar problemas en algortimos como K-Means ya que es sensible a los datos extremos"
   ]
  },
  {
   "cell_type": "code",
   "execution_count": 142,
   "metadata": {},
   "outputs": [
    {
     "data": {
      "image/png": "[encoded data removed]",
      "text/plain": [
       "<Figure size 640x480 with 1 Axes>"
      ]
     },
     "metadata": {},
     "output_type": "display_data"
    }
   ],
   "source": [
    "data.boxplot()\n",
    "\n",
    "# Show the plot\n",
    "plt.show()"
   ]
  },
  {
   "cell_type": "markdown",
   "metadata": {},
   "source": [
    "## Limpieza de los datos"
   ]
  },
  {
   "cell_type": "markdown",
   "metadata": {},
   "source": [
    "Para empezar la limpieza de los datos, vamos a hacer una copia de los datos para evitar dañar el conjunto original."
   ]
  },
  {
   "cell_type": "code",
   "execution_count": 143,
   "metadata": {},
   "outputs": [],
   "source": [
    "dataCopy = data.copy()"
   ]
  },
  {
   "cell_type": "markdown",
   "metadata": {},
   "source": [
    "Luego, vamos a eliminar los datos duplicados. Esto se hace con el objetivo de evitar sesgos en el modelo."
   ]
  },
  {
   "cell_type": "code",
   "execution_count": 144,
   "metadata": {},
   "outputs": [],
   "source": [
    "dataCopy = dataCopy.drop_duplicates()"
   ]
  },
  {
   "cell_type": "markdown",
   "metadata": {},
   "source": [
    "Después de borrar los duplicados, procederemos a borrar la columna de Saturacion ya que sus registros faltantes son más el 50%, por lo cual se puede inferir que no aporta mucha información relevante para el modelo."
   ]
  },
  {
   "cell_type": "code",
   "execution_count": 145,
   "metadata": {},
   "outputs": [],
   "source": [
    "dataCopy = dataCopy.drop(columns=['Diagnostico_En_Urgencias'])\n",
    "dataCopy = dataCopy.drop(columns=['Queja_Principal'])\n",
    "dataCopy = dataCopy.drop(columns=['dolor_NRS'])"
   ]
  },
  {
   "cell_type": "markdown",
   "metadata": {},
   "source": [
    "Ahora procedermos a eliminar las columnas categóricas ya que estas tienen muchas clases, lo cual podría causar problemas al momento de transformarlas en númericas."
   ]
  },
  {
   "cell_type": "code",
   "execution_count": 146,
   "metadata": {},
   "outputs": [],
   "source": [
    "dataCopy = dataCopy.drop(columns=['Saturacion'])"
   ]
  },
  {
   "cell_type": "markdown",
   "metadata": {},
   "source": [
    "Después, vamos a eliminar los registros que tienen datos faltantes ya que, al no ser muchos después de borrar la columna saturación, no se pierde información valiosa para el modelo."
   ]
  },
  {
   "cell_type": "code",
   "execution_count": 147,
   "metadata": {},
   "outputs": [],
   "source": [
    "dataCopy=dataCopy.dropna()"
   ]
  },
  {
   "cell_type": "markdown",
   "metadata": {},
   "source": [
    "Por último, borraremos los outliers muy extremos de la variable Duración_Estancia_Min. Esto lo vamos a hacer a partir de del valor de 50.000 ya que hay valores muy extremos sobre este valore que pueden alterar la forma en la que K-Means genera los grupos."
   ]
  },
  {
   "cell_type": "code",
   "execution_count": 148,
   "metadata": {},
   "outputs": [],
   "source": [
    "dataCopy = dataCopy[dataCopy[\"Duracion_Estancia_Min\"]<=50000]"
   ]
  },
  {
   "cell_type": "markdown",
   "metadata": {},
   "source": [
    "Ahora vamos a ver el número de datos y columnas que quedan."
   ]
  },
  {
   "cell_type": "code",
   "execution_count": 149,
   "metadata": {},
   "outputs": [
    {
     "data": {
      "text/plain": [
       "(928, 19)"
      ]
     },
     "execution_count": 149,
     "metadata": {},
     "output_type": "execute_result"
    }
   ],
   "source": [
    "dataCopy.shape"
   ]
  },
  {
   "cell_type": "markdown",
   "metadata": {},
   "source": [
    "## Ajuste de los datos para que esten en una misma escala"
   ]
  },
  {
   "cell_type": "markdown",
   "metadata": {},
   "source": [
    "Una vez que hemos limpiado y preparado los datos, podemos proceder a implementar un modelo de agrupamiento. Para empezar, vamos a usar K-means para ver si podemos identificar grupos de pacientes con características similares. "
   ]
  },
  {
   "cell_type": "code",
   "execution_count": 150,
   "metadata": {},
   "outputs": [],
   "source": [
    "# from sklearn.cluster import KMeans\n",
    "# import matplotlib.pyplot as plt\n",
    "\n",
    "# kmeans = KMeans(n_clusters=3, random_state=42)\n",
    "\n",
    "# kmeans.fit(data_copy)\n",
    "# data_copy['Cluster'] = kmeans.labels_\n",
    "\n",
    "# print(data_copy['Cluster'].value_counts())"
   ]
  }
 ],
 "metadata": {
  "kernelspec": {
   "display_name": "base",
   "language": "python",
   "name": "python3"
  },
  "language_info": {
   "codemirror_mode": {
    "name": "ipython",
    "version": 3
   },
   "file_extension": ".py",
   "mimetype": "text/x-python",
   "name": "python",
   "nbconvert_exporter": "python",
   "pygments_lexer": "ipython3",
   "version": "3.12.3"
  }
 },
 "nbformat": 4,
 "nbformat_minor": 2
}
