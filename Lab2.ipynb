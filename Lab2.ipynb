{
 "cells": [
  {
   "cell_type": "markdown",
   "metadata": {},
   "source": [
    "# Proyecto- Segmentación en grupos de acuerdo a características de pacientes"
   ]
  },
  {
   "cell_type": "markdown",
   "metadata": {},
   "source": [
    "**Integrantes**: Maria Fernanda De La Hoz, Silvana Sandoval y Gabriela Soler \n"
   ]
  },
  {
   "cell_type": "markdown",
   "metadata": {},
   "source": [
    "## Objetivo del proyecto"
   ]
  },
  {
   "cell_type": "markdown",
   "metadata": {},
   "source": [
    "Este proyecto tiene el objetivo de incorporar herramientas de Inteligencia Artificial para incrementar la eficiencia de la prestación de servicios a los usuarios en las diferentes IPS asociadas, teniendo en cuenta que en el contexto del triage, la agrupación puede ser útil para la toma de decisiones."
   ]
  },
  {
   "cell_type": "markdown",
   "metadata": {},
   "source": [
    "## Importación de las librerías relevantes"
   ]
  },
  {
   "cell_type": "markdown",
   "metadata": {},
   "source": [
    "Este primer paso es esencial ya que estas librerías son las que nos permitirán ejecutar los algoritmos y hacer los análisis relevantes para comprender cuál de los modelos que usamos es el óptimo para solucionar el problema de este proyecto."
   ]
  },
  {
   "cell_type": "code",
   "execution_count": 1,
   "metadata": {},
   "outputs": [],
   "source": [
    "import pandas as pd\n",
    "import numpy as np\n",
    "import matplotlib.pyplot as plt\n",
    "from sklearn.preprocessing import RobustScaler\n",
    "from sklearn.cluster import KMeans, DBSCAN\n",
    "from sklearn.decomposition import PCA, IncrementalPCA\n",
    "from sklearn.metrics import silhouette_score, silhouette_samples, rand_score\n",
    "\n",
    "import matplotlib.pyplot as plt\n",
    "import matplotlib.cm as cm\n",
    "import seaborn as sns"
   ]
  },
  {
   "cell_type": "markdown",
   "metadata": {},
   "source": [
    "# Importación de los datos"
   ]
  },
  {
   "cell_type": "code",
   "execution_count": 2,
   "metadata": {},
   "outputs": [],
   "source": [
    "data = pd.read_csv(\"202420_Laboratorio 2 - Agrupación_202420_Laboratorio_2_-_Agrupación_data.csv\", encoding=\"latin1\", sep=\",\")"
   ]
  },
  {
   "cell_type": "markdown",
   "metadata": {},
   "source": [
    "## Entedimiento de los datos"
   ]
  },
  {
   "cell_type": "markdown",
   "metadata": {},
   "source": [
    "Para empezar los pasos de entendimiento de los datos, es importante ver qué filas lo constituyen."
   ]
  },
  {
   "cell_type": "code",
   "execution_count": 3,
   "metadata": {},
   "outputs": [
    {
     "name": "stdout",
     "output_type": "stream",
     "text": [
      "   Grupo  Sexo  Edad  Modo_Llegada  Lesion  Queja_Principal  Estado_Mental  \\\n",
      "0      2     2    49             2       1  ant. chest pain              1   \n",
      "1      2     2    30             4       1         headache              1   \n",
      "2      2     1    61             3       2  ant. chest pain              1   \n",
      "3      2     2    61             3       1         headache              1   \n",
      "4      1     2    67             3       1    fever & chill              1   \n",
      "\n",
      "   Dolor dolor_NRS    SBP  ...    BT  Saturacion  KTAS_enfermera  \\\n",
      "0      1         2  150.0  ...  36.2        98.0               2   \n",
      "1      1         4  140.0  ...  36.3        99.0               3   \n",
      "2      1         3  100.0  ...  36.4        98.0               4   \n",
      "3      1         4  120.0  ...  36.5        99.0               4   \n",
      "4      0    #BOÃ!  143.0  ...  38.1         NaN               4   \n",
      "\n",
      "                Diagnostico_En_Urgencias  Disposicion  KTAS_experto  \\\n",
      "0                   Ischaemic chest pain            2             2   \n",
      "1  Subarachnoid haemorrhage, unspecified            7             3   \n",
      "2      Contusion of front wall of thorax            1             4   \n",
      "3                               Headache            1             3   \n",
      "4                                  Fever            1             2   \n",
      "\n",
      "  Grupo_De_Error  Duracion_Estancia_Min  Duracion_KTAS_Min  Error_Triaje  \n",
      "0              0                   1591               2,00             0  \n",
      "1              0                    211               3,00             0  \n",
      "2              0                    119               2,00             0  \n",
      "3              4                    414               2,00             2  \n",
      "4              1                    267               3,60             2  \n",
      "\n",
      "[5 rows x 23 columns]\n"
     ]
    }
   ],
   "source": [
    "\n",
    "print(data.head())"
   ]
  },
  {
   "cell_type": "markdown",
   "metadata": {},
   "source": [
    "Ahora, vamos a ver el número de registros y de columnas con el que contamos. Esto nos permitirá saber, en total, qué datos tenemos para entrenar los modelos de los que haremos uso en este laboratorio."
   ]
  },
  {
   "cell_type": "code",
   "execution_count": 4,
   "metadata": {},
   "outputs": [
    {
     "data": {
      "text/plain": [
       "(1000, 23)"
      ]
     },
     "execution_count": 4,
     "metadata": {},
     "output_type": "execute_result"
    }
   ],
   "source": [
    "data.shape"
   ]
  },
  {
   "cell_type": "markdown",
   "metadata": {},
   "source": [
    "Luego, haremos uso de la función describe() de los DataFrames de Pandas. Esto se hace con el fin de entender cuáles son las medidas de tendencia central (media, desviación estandar, moda), maximos, mínimos y los quartiles de las variables númericas. Lo anterior da una primera aproximación sobre cómo están organizados los datos"
   ]
  },
  {
   "cell_type": "code",
   "execution_count": 5,
   "metadata": {},
   "outputs": [
    {
     "name": "stdout",
     "output_type": "stream",
     "text": [
      "             Grupo         Sexo         Edad  Modo_Llegada     Lesion  \\\n",
      "count  1000.000000  1000.000000  1000.000000   1000.000000  1000.0000   \n",
      "mean      1.450000     1.514000    53.892000      2.811000     1.2000   \n",
      "std       0.497743     0.500054    19.826483      0.796186     0.4002   \n",
      "min       1.000000     1.000000    16.000000      1.000000     1.0000   \n",
      "25%       1.000000     1.000000    36.000000      2.000000     1.0000   \n",
      "50%       1.000000     2.000000    56.000000      3.000000     1.0000   \n",
      "75%       2.000000     2.000000    70.250000      3.000000     1.0000   \n",
      "max       2.000000     2.000000    94.000000      7.000000     2.0000   \n",
      "\n",
      "       Estado_Mental        Dolor         SBP         DBP          HR  \\\n",
      "count    1000.000000  1000.000000  983.000000  979.000000  988.000000   \n",
      "mean        1.103000     0.562000  133.485249   79.566905   84.400810   \n",
      "std         0.431946     0.496389   27.156136   15.174593   16.297428   \n",
      "min         1.000000     0.000000   50.000000   31.000000   32.000000   \n",
      "25%         1.000000     0.000000  114.000000   70.000000   73.000000   \n",
      "50%         1.000000     1.000000  130.000000   80.000000   82.000000   \n",
      "75%         1.000000     1.000000  150.000000   90.000000   96.000000   \n",
      "max         4.000000     1.000000  275.000000  160.000000  148.000000   \n",
      "\n",
      "               RR          BT  Saturacion  KTAS_enfermera  Disposicion  \\\n",
      "count  985.000000  989.000000  444.000000     1000.000000  1000.000000   \n",
      "mean    19.450761   36.562993   97.047297        3.328000     1.610000   \n",
      "std      2.069882    0.519699    4.761112        0.862067     1.161572   \n",
      "min     14.000000   35.000000   20.000000        1.000000     1.000000   \n",
      "25%     18.000000   36.200000   97.000000        3.000000     1.000000   \n",
      "50%     20.000000   36.500000   98.000000        3.000000     1.000000   \n",
      "75%     20.000000   36.800000   99.000000        4.000000     2.000000   \n",
      "max     30.000000   39.800000  100.000000        5.000000     7.000000   \n",
      "\n",
      "       KTAS_experto  Grupo_De_Error  Duracion_Estancia_Min  Error_Triaje  \n",
      "count   1000.000000     1000.000000            1000.000000   1000.000000  \n",
      "mean       3.260000        0.569000           12792.480000      0.253000  \n",
      "std        0.865534        1.587375           87721.151446      0.630387  \n",
      "min        1.000000        0.000000               0.000000      0.000000  \n",
      "25%        3.000000        0.000000             132.750000      0.000000  \n",
      "50%        3.000000        0.000000             270.500000      0.000000  \n",
      "75%        4.000000        0.000000             620.000000      0.000000  \n",
      "max        5.000000        9.000000          709510.000000      2.000000  \n"
     ]
    }
   ],
   "source": [
    "print(data.describe())"
   ]
  },
  {
   "cell_type": "markdown",
   "metadata": {},
   "source": [
    "### Outliers"
   ]
  },
  {
   "cell_type": "markdown",
   "metadata": {},
   "source": [
    "Ahora vamos a hacer diagramas de cajas y bigotes para el data frame. Esto lo hacemos para poder identificara aquellas clases que tienen outliers muy extremos, lo cual nos permitirá determinar el tratamiento correcto para estos datos ya que pueden ocasionar problemas en algortimos como K-Means que son sensibles a los datos extremos."
   ]
  },
  {
   "cell_type": "code",
   "execution_count": 6,
   "metadata": {},
   "outputs": [
    {
     "data": {
      "image/png": "[encoded data removed]",
      "text/plain": [
       "<Figure size 640x480 with 1 Axes>"
      ]
     },
     "metadata": {},
     "output_type": "display_data"
    },
    {
     "data": {
      "text/plain": [
       "<Figure size 5000x4000 with 0 Axes>"
      ]
     },
     "metadata": {},
     "output_type": "display_data"
    }
   ],
   "source": [
    "data.boxplot()\n",
    "plt.figure(figsize=(50, 40))\n",
    "# Show the plot\n",
    "plt.show()"
   ]
  },
  {
   "cell_type": "markdown",
   "metadata": {},
   "source": [
    "Ahora veremos en detalle aquellas clases que tienen outliers para poder determinar si son datos muy diferentes al resto de los datos y se debe hacer una limpieza o si, por el contrario, se pueden dejar para que se pueda hacer una agrupación a partir de estos. Además, esto  nos permitirá identificar si hay valores que no deberían estar en el conjunto de datos ya que se salen de los rangos permitidos. Para esto veremos las clases de Duración_Estancia_Min, Disposicion, HR, SBP, Lesion y Estado Mental."
   ]
  },
  {
   "cell_type": "code",
   "execution_count": 7,
   "metadata": {},
   "outputs": [
    {
     "data": {
      "image/png": "[encoded data removed]",
      "text/plain": [
       "<Figure size 640x480 with 1 Axes>"
      ]
     },
     "metadata": {},
     "output_type": "display_data"
    }
   ],
   "source": [
    "data.boxplot(column=['Duracion_Estancia_Min'])\n",
    "plt.show()\n",
    "\n",
    "# Identify outliers based on IQR\n",
    "Q1 = data['Duracion_Estancia_Min'].quantile(0.25)\n",
    "Q3 = data['Duracion_Estancia_Min'].quantile(0.75)\n",
    "IQR = Q3 - Q1\n"
   ]
  },
  {
   "cell_type": "markdown",
   "metadata": {},
   "source": [
    "Como se puede ver en la gráfica de Duración_Estancia_Min, si bien hay bastantes outliers, la mayoría estan por debadjo de los 50 mil minutos y no están tan lejanos del diagrama de cajas y bigotes. Sin embargo, hay unos cuantos datos que estan sober 600000 minutos que son bastante lejanos a los demás datos. Esto sería un problema para los algoritmos que vamos a entrenar ya que uno de ellos usa la media de los datos, por lo cual todos los outliers de esta clase que estén por encima de 50000 minutos se eliminarán."
   ]
  },
  {
   "cell_type": "code",
   "execution_count": 8,
   "metadata": {},
   "outputs": [
    {
     "data": {
      "image/png": "[encoded data removed]",
      "text/plain": [
       "<Figure size 640x480 with 1 Axes>"
      ]
     },
     "metadata": {},
     "output_type": "display_data"
    }
   ],
   "source": [
    "data.boxplot(column=['Disposicion'])\n",
    "plt.show()\n",
    "\n",
    "# Identify outliers based on IQR\n",
    "Q1 = data['Disposicion'].quantile(0.25)\n",
    "Q3 = data['Disposicion'].quantile(0.75)\n",
    "IQR = Q3 - Q1\n"
   ]
  },
  {
   "cell_type": "markdown",
   "metadata": {},
   "source": [
    "Si bien en la gráfica de cajas y bigores de Disposicion hay outliers, estos no constituyen un problema para los algoritmos ya que son datos permitidos y reflejan comportamientos reales que pueden tener los pacientes que llegan a urgencias y borrarlos podría causar un sesgo ante estas situaciones. Adicionalmente, esta variable es categórica, por lo cual estos número representan el estado en el que llega el paciente y qué tipo de atención requiere."
   ]
  },
  {
   "cell_type": "code",
   "execution_count": 9,
   "metadata": {},
   "outputs": [
    {
     "data": {
      "image/png": "[encoded data removed]",
      "text/plain": [
       "<Figure size 640x480 with 1 Axes>"
      ]
     },
     "metadata": {},
     "output_type": "display_data"
    }
   ],
   "source": [
    "data.boxplot(column=['HR'])\n",
    "plt.show()\n",
    "\n",
    "# Identify outliers based on IQR\n",
    "Q1 = data['HR'].quantile(0.25)\n",
    "Q3 = data['HR'].quantile(0.75)\n",
    "IQR = Q3 - Q1\n"
   ]
  },
  {
   "cell_type": "markdown",
   "metadata": {},
   "source": [
    "Si bien en la gráfica de cajas y bigores de HR hay outliers, estos no constituyen un problema para los algoritmos ya que son datos permitidos y reflejan comportamientos reales que pueden tener los pacientes que llegan a urgencias y borrarlos podría causar un sesgo ante estas situaciones."
   ]
  },
  {
   "cell_type": "code",
   "execution_count": 10,
   "metadata": {},
   "outputs": [
    {
     "data": {
      "image/png": "[encoded data removed]",
      "text/plain": [
       "<Figure size 640x480 with 1 Axes>"
      ]
     },
     "metadata": {},
     "output_type": "display_data"
    }
   ],
   "source": [
    "data.boxplot(column=['SBP'])\n",
    "plt.show()\n",
    "\n",
    "# Identify outliers based on IQR\n",
    "Q1 = data['SBP'].quantile(0.25)\n",
    "Q3 = data['SBP'].quantile(0.75)\n",
    "IQR = Q3 - Q1\n"
   ]
  },
  {
   "cell_type": "markdown",
   "metadata": {},
   "source": [
    "Si bien en la gráfica de cajas y bigores de SBP hay outliers, estos no constituyen un problema para los algoritmos ya que son datos permitidos y reflejan comportamientos reales que pueden tener los pacientes que llegan a urgencias y borrarlos podría causar un sesgo ante estas situaciones."
   ]
  },
  {
   "cell_type": "code",
   "execution_count": 11,
   "metadata": {},
   "outputs": [
    {
     "data": {
      "image/png": "[encoded data removed]",
      "text/plain": [
       "<Figure size 640x480 with 1 Axes>"
      ]
     },
     "metadata": {},
     "output_type": "display_data"
    }
   ],
   "source": [
    "data.boxplot(column=['Lesion'])\n",
    "plt.show()\n",
    "\n",
    "# Identify outliers based on IQR\n",
    "Q1 = data['Lesion'].quantile(0.25)\n",
    "Q3 = data['Lesion'].quantile(0.75)\n",
    "IQR = Q3 - Q1\n"
   ]
  },
  {
   "cell_type": "markdown",
   "metadata": {},
   "source": [
    "Si bien en la gráfica de cajas y bigores de Lesion hay outliers, estos no constituyen un problema para los algoritmos ya que son datos permitidos y reflejan comportamientos reales que pueden tener los pacientes que llegan a urgencias y borrarlos podría causar un sesgo ante estas situaciones. Adicionalmente, esta variable se considera categórica con 1= sí hay lesión y 2=No hay."
   ]
  },
  {
   "cell_type": "code",
   "execution_count": 12,
   "metadata": {},
   "outputs": [
    {
     "data": {
      "image/png": "[encoded data removed]",
      "text/plain": [
       "<Figure size 640x480 with 1 Axes>"
      ]
     },
     "metadata": {},
     "output_type": "display_data"
    }
   ],
   "source": [
    "from matplotlib import pyplot as plt\n",
    "\n",
    "\n",
    "data.boxplot(column=['Estado_Mental'])\n",
    "plt.show()\n",
    "\n",
    "# Identify outliers based on IQR\n",
    "Q1 = data['Estado_Mental'].quantile(0.25)\n",
    "Q3 = data['Estado_Mental'].quantile(0.75)\n",
    "IQR = Q3 - Q1\n"
   ]
  },
  {
   "cell_type": "markdown",
   "metadata": {},
   "source": [
    "Si bien en la gráfica de cajas y bigores de Estado Mental hay outliers, estos no constituyen un problema para los algoritmos ya que son datos permitidos y reflejan comportamientos reales que pueden tener los pacientes que llegan a urgencias y borrarlos podría causar un sesgo ante estas situaciones. Adicionalmente, esta variable se considera categórica donde los números representan los diferentes estados mentales en los que llegó el paciente, la cual es información valiosa."
   ]
  },
  {
   "cell_type": "markdown",
   "metadata": {},
   "source": [
    "### Datos duplicados y nulos"
   ]
  },
  {
   "cell_type": "markdown",
   "metadata": {},
   "source": [
    "Ahora veremos los datos duplicados y nulos. Comprobar el número de registros que tienen estos datos es sumamente importante ya que los primero pueden causar sesgos en los modelos, y los segundos tienen que ser tratados de alguna manera para que tengan un comportamiento similar a los demás datos."
   ]
  },
  {
   "cell_type": "code",
   "execution_count": 13,
   "metadata": {},
   "outputs": [
    {
     "data": {
      "text/plain": [
       "Grupo                         0\n",
       "Sexo                          0\n",
       "Edad                          0\n",
       "Modo_Llegada                  0\n",
       "Lesion                        0\n",
       "Queja_Principal               0\n",
       "Estado_Mental                 0\n",
       "Dolor                         0\n",
       "dolor_NRS                     0\n",
       "SBP                          17\n",
       "DBP                          21\n",
       "HR                           12\n",
       "RR                           15\n",
       "BT                           11\n",
       "Saturacion                  556\n",
       "KTAS_enfermera                0\n",
       "Diagnostico_En_Urgencias      1\n",
       "Disposicion                   0\n",
       "KTAS_experto                  0\n",
       "Grupo_De_Error                0\n",
       "Duracion_Estancia_Min         0\n",
       "Duracion_KTAS_Min             0\n",
       "Error_Triaje                  0\n",
       "dtype: int64"
      ]
     },
     "execution_count": 13,
     "metadata": {},
     "output_type": "execute_result"
    }
   ],
   "source": [
    "data.isnull().sum()"
   ]
  },
  {
   "cell_type": "markdown",
   "metadata": {},
   "source": [
    "Vamos a ver el porcentaje de datos faltantes para decidir si borrar columnas o reemplazar por medias."
   ]
  },
  {
   "cell_type": "code",
   "execution_count": 14,
   "metadata": {},
   "outputs": [
    {
     "data": {
      "text/plain": [
       "Duracion_Estancia_Min     0.0\n",
       "Sexo                      0.0\n",
       "Modo_Llegada              0.0\n",
       "Lesion                    0.0\n",
       "Estado_Mental             0.0\n",
       "Dolor                     0.0\n",
       "SBP                       1.7\n",
       "DBP                       2.1\n",
       "HR                        1.2\n",
       "RR                        1.5\n",
       "Saturacion               55.6\n",
       "Disposicion               0.0\n",
       "dtype: float64"
      ]
     },
     "execution_count": 14,
     "metadata": {},
     "output_type": "execute_result"
    }
   ],
   "source": [
    "features = [\"Sexo\", \"Modo_Llegada\", \"Lesion\", \"Estado_Mental\", \"Dolor\", \"SBP\", \"DBP\", \"HR\", \"RR\", \"Saturacion\", \"Disposicion\"]\n",
    "\n",
    "data[[\"Duracion_Estancia_Min\"] + features].isnull().sum() / data.shape[0] * 100"
   ]
  },
  {
   "cell_type": "markdown",
   "metadata": {},
   "source": [
    "Ahora, revisaremos los duplicados para tener una idea de cuantos registros serán borrados para evitar sesgos"
   ]
  },
  {
   "cell_type": "code",
   "execution_count": 15,
   "metadata": {},
   "outputs": [
    {
     "name": "stdout",
     "output_type": "stream",
     "text": [
      "Número de filas duplicadas: 33\n"
     ]
    }
   ],
   "source": [
    "duplicate_rows = data.duplicated().sum()\n",
    "print(f\"Número de filas duplicadas: {duplicate_rows}\")"
   ]
  },
  {
   "cell_type": "markdown",
   "metadata": {},
   "source": [
    "### Número de categorias en las variables categóricas con tipo de datos Object."
   ]
  },
  {
   "cell_type": "markdown",
   "metadata": {},
   "source": [
    "Esto se hace con el fin de saber cuántas categorías tienen las variables categoricas para poder decidir si se reemplazan con un encoder o si simplemente se elimina la columna ya que estas, al ser tipo object, no son procesadas por los algoritmos de agrupación como K Means que solo trabajan con datos numéricos. Las categorias con las trabajaremos son: Queja_Principal, dolor_NRS, y Diagnostico_En_Urgencias."
   ]
  },
  {
   "cell_type": "code",
   "execution_count": 16,
   "metadata": {},
   "outputs": [
    {
     "data": {
      "text/plain": [
       "Queja_Principal\n",
       "abd pain                               62\n",
       "dizziness                              53\n",
       "dyspnea                                45\n",
       "ant. chest pain                        37\n",
       "fever                                  29\n",
       "                                       ..\n",
       "hand laceration                         1\n",
       "Sexual Abuse of Adult                   1\n",
       "laceration, scalp                       1\n",
       "right lower quadrant abdominal pain     1\n",
       "otalgia, Rt.                            1\n",
       "Name: count, Length: 347, dtype: int64"
      ]
     },
     "execution_count": 16,
     "metadata": {},
     "output_type": "execute_result"
    }
   ],
   "source": [
    "data[\"Queja_Principal\"].value_counts()"
   ]
  },
  {
   "cell_type": "code",
   "execution_count": 17,
   "metadata": {},
   "outputs": [
    {
     "data": {
      "text/plain": [
       "dolor_NRS\n",
       "#BOÃ!    440\n",
       "3         209\n",
       "4         111\n",
       "5         109\n",
       "6          59\n",
       "2          31\n",
       "7          27\n",
       "8           8\n",
       "10          3\n",
       "1           2\n",
       "9           1\n",
       "Name: count, dtype: int64"
      ]
     },
     "execution_count": 17,
     "metadata": {},
     "output_type": "execute_result"
    }
   ],
   "source": [
    "data[\"dolor_NRS\"].value_counts()"
   ]
  },
  {
   "cell_type": "code",
   "execution_count": 18,
   "metadata": {},
   "outputs": [
    {
     "data": {
      "text/plain": [
       "Diagnostico_En_Urgencias\n",
       "Acute gastroenteritis                                   39\n",
       "Headache                                                23\n",
       "Dizziness                                               20\n",
       "Unspecified abdominal pain                              19\n",
       "Ischaemic chest pain                                    17\n",
       "                                                        ..\n",
       "Colon cancer, sigmoid                                    1\n",
       "Postnasal drip syndrome                                  1\n",
       "Other specified diabetes mellitus, with hypoglycemia     1\n",
       "Open wound of finger(s) without damage to nail           1\n",
       "Traumatic secondary and recurrent haemorrhage            1\n",
       "Name: count, Length: 489, dtype: int64"
      ]
     },
     "execution_count": 18,
     "metadata": {},
     "output_type": "execute_result"
    }
   ],
   "source": [
    "data[\"Diagnostico_En_Urgencias\"].value_counts()"
   ]
  },
  {
   "cell_type": "markdown",
   "metadata": {},
   "source": [
    "Como se puede apreciar, en general, se tienen más de 10 o más categorias, una de ellas siendo datos nulos. Esto cuando se utiliza un encoder puede causar que hayan demasiados números, lo cual puede causar problemas en el momento de hacer la agrupación, por lo cual sería recomendable borrarlos."
   ]
  },
  {
   "cell_type": "markdown",
   "metadata": {},
   "source": [
    "## Limpieza de los datos"
   ]
  },
  {
   "cell_type": "markdown",
   "metadata": {},
   "source": [
    "### Análisis de las variables para la implementación del proyecto"
   ]
  },
  {
   "cell_type": "markdown",
   "metadata": {},
   "source": [
    "*Variables Categóricas:*\n",
    "\n",
    "Grupo: Es una variable importante porque parece clasificar a los pacientes en grupos que queremos optimizar.\n",
    "\n",
    "Sexo, Modo_Llegada, Lesión, Estado_Mental, Dolor: Estas variables categorizadas probablemente influyan en la clasificación y deberían codificarse adecuadamente.\n",
    "\n",
    "*Variables de Severidad:*\n",
    "KTAS_Enfermera y KTAS_Experto: Estas escalas son importantes para evaluar la urgencia de los pacientes. Es clave tenerlas en cuenta en el modelo de agrupamiento.\n",
    "\n",
    "Disposición: Esta variable refleja qué pasó con el paciente después de la evaluación, lo que podría ser útil para encontrar patrones en los resultados del tratamiento.\n",
    "\n",
    "*Variables Numéricas:*\n",
    "\n",
    "Las variables fisiológicas como SBP (Presión Arterial Sistólica), DBP (Presión Diastólica), HR (Frecuencia Cardíaca), RR (Frecuencia Respiratoria), BT (Temperatura Corporal), y Saturación (Oxígeno) son críticas para describir el estado físico del paciente.\n",
    "\n",
    "Variables de tiempo como Duración_Estancia_Min y Duración_KTAS_Min también son importantes porque podrían ayudar a analizar la eficiencia de la atención.\n",
    "\n",
    "*Variables que podrían tener ruido:*\n",
    "\n",
    "Grupo_Error, Error_Triaje: Si estamos trabajando para hacer agrupamientos basados en la condición de los pacientes, estas columnas relacionadas con errores podrían introducir ruido o ser útiles para analizar el rendimiento de los grupos predichos."
   ]
  },
  {
   "cell_type": "markdown",
   "metadata": {},
   "source": [
    "### Manejo de variables faltantes"
   ]
  },
  {
   "cell_type": "markdown",
   "metadata": {},
   "source": [
    "Para las variables críticas (por ejemplo, las fisiológicas y de severidad), podemos usar imputación. Es por esto que identificaremos cuáles columnas tienen valores faltantes y cuántos faltan:"
   ]
  },
  {
   "cell_type": "markdown",
   "metadata": {},
   "source": [
    "Para las variables fisiológicas con pocos valores faltantes (SBP, DBP, HR, RR, BT):\n",
    "Podemos usar imputación con la mediana. La mediana es robusta a valores atípicos y adecuada para variables fisiológicas.\n",
    "\n",
    "Para la variable Saturacion, que tiene más del 50% de los datos faltantes:\n",
    "Podríamos considerar imputar con la mediana también, pero como tiene demasiados valores faltantes, otra opción sería eliminar esta columna si no es esencial para el análisis.\n",
    "\n",
    "Para Diagnostico_En_Urgencias, que tiene solo un valor faltante:\n",
    "Imputar con el valor más frecuente será una estrategia razonable."
   ]
  },
  {
   "cell_type": "markdown",
   "metadata": {},
   "source": [
    "### Copia de los datos"
   ]
  },
  {
   "cell_type": "markdown",
   "metadata": {},
   "source": [
    "Para empezar la limpieza de los datos, vamos a hacer una copia de los datos para evitar dañar el conjunto original."
   ]
  },
  {
   "cell_type": "code",
   "execution_count": 19,
   "metadata": {},
   "outputs": [],
   "source": [
    "#Iniciaremos creando una copia de los datos para realizar un preprocesamiento\n",
    "dataCopy = data.copy()"
   ]
  },
  {
   "cell_type": "markdown",
   "metadata": {},
   "source": [
    "Luego, vamos a eliminar los datos duplicados. Esto se hace con el objetivo de evitar sesgos en el modelo."
   ]
  },
  {
   "cell_type": "code",
   "execution_count": 20,
   "metadata": {},
   "outputs": [],
   "source": [
    "dataCopy = dataCopy.drop_duplicates()"
   ]
  },
  {
   "cell_type": "markdown",
   "metadata": {},
   "source": [
    "Después de borrar los duplicados, procederemos a borrar la columna de Saturacion ya que sus registros faltantes son más el 50%, por lo cual se puede inferir que no aporta mucha información relevante para el modelo."
   ]
  },
  {
   "cell_type": "code",
   "execution_count": 21,
   "metadata": {},
   "outputs": [],
   "source": [
    "dataCopy = dataCopy.drop(columns=['Saturacion'])"
   ]
  },
  {
   "cell_type": "markdown",
   "metadata": {},
   "source": [
    "Ahora procedermos a eliminar las columnas categóricas ya que estas tienen muchas clases, lo cual podría causar problemas al momento de transformarlas en númericas."
   ]
  },
  {
   "cell_type": "code",
   "execution_count": 22,
   "metadata": {},
   "outputs": [],
   "source": [
    "dataCopy = dataCopy.drop(columns=['Diagnostico_En_Urgencias'], axis=1)\n",
    "dataCopy = dataCopy.drop(columns=['Queja_Principal'], axis=1)\n",
    "dataCopy = dataCopy.drop(columns=['dolor_NRS'], axis=1)\n",
    "dataCopy = dataCopy.drop(columns=['Duracion_KTAS_Min'], axis=1)"
   ]
  },
  {
   "cell_type": "code",
   "execution_count": 23,
   "metadata": {},
   "outputs": [
    {
     "data": {
      "text/html": [
       "<div>\n",
       "<style scoped>\n",
       "    .dataframe tbody tr th:only-of-type {\n",
       "        vertical-align: middle;\n",
       "    }\n",
       "\n",
       "    .dataframe tbody tr th {\n",
       "        vertical-align: top;\n",
       "    }\n",
       "\n",
       "    .dataframe thead th {\n",
       "        text-align: right;\n",
       "    }\n",
       "</style>\n",
       "<table border=\"1\" class=\"dataframe\">\n",
       "  <thead>\n",
       "    <tr style=\"text-align: right;\">\n",
       "      <th></th>\n",
       "      <th>Grupo</th>\n",
       "      <th>Sexo</th>\n",
       "      <th>Edad</th>\n",
       "      <th>Modo_Llegada</th>\n",
       "      <th>Lesion</th>\n",
       "      <th>Estado_Mental</th>\n",
       "      <th>Dolor</th>\n",
       "      <th>SBP</th>\n",
       "      <th>DBP</th>\n",
       "      <th>HR</th>\n",
       "      <th>RR</th>\n",
       "      <th>BT</th>\n",
       "      <th>KTAS_enfermera</th>\n",
       "      <th>Disposicion</th>\n",
       "      <th>KTAS_experto</th>\n",
       "      <th>Grupo_De_Error</th>\n",
       "      <th>Duracion_Estancia_Min</th>\n",
       "      <th>Error_Triaje</th>\n",
       "    </tr>\n",
       "  </thead>\n",
       "  <tbody>\n",
       "    <tr>\n",
       "      <th>62</th>\n",
       "      <td>1</td>\n",
       "      <td>2</td>\n",
       "      <td>71</td>\n",
       "      <td>1</td>\n",
       "      <td>1</td>\n",
       "      <td>1</td>\n",
       "      <td>1</td>\n",
       "      <td>139.0</td>\n",
       "      <td>94.0</td>\n",
       "      <td>88.0</td>\n",
       "      <td>20.0</td>\n",
       "      <td>36.5</td>\n",
       "      <td>4</td>\n",
       "      <td>1</td>\n",
       "      <td>5</td>\n",
       "      <td>6</td>\n",
       "      <td>108</td>\n",
       "      <td>1</td>\n",
       "    </tr>\n",
       "    <tr>\n",
       "      <th>799</th>\n",
       "      <td>2</td>\n",
       "      <td>1</td>\n",
       "      <td>20</td>\n",
       "      <td>3</td>\n",
       "      <td>1</td>\n",
       "      <td>1</td>\n",
       "      <td>0</td>\n",
       "      <td>120.0</td>\n",
       "      <td>70.0</td>\n",
       "      <td>78.0</td>\n",
       "      <td>24.0</td>\n",
       "      <td>36.0</td>\n",
       "      <td>4</td>\n",
       "      <td>1</td>\n",
       "      <td>4</td>\n",
       "      <td>0</td>\n",
       "      <td>190</td>\n",
       "      <td>0</td>\n",
       "    </tr>\n",
       "    <tr>\n",
       "      <th>529</th>\n",
       "      <td>1</td>\n",
       "      <td>2</td>\n",
       "      <td>50</td>\n",
       "      <td>3</td>\n",
       "      <td>1</td>\n",
       "      <td>1</td>\n",
       "      <td>1</td>\n",
       "      <td>144.0</td>\n",
       "      <td>89.0</td>\n",
       "      <td>74.0</td>\n",
       "      <td>20.0</td>\n",
       "      <td>36.0</td>\n",
       "      <td>4</td>\n",
       "      <td>1</td>\n",
       "      <td>4</td>\n",
       "      <td>0</td>\n",
       "      <td>16</td>\n",
       "      <td>0</td>\n",
       "    </tr>\n",
       "    <tr>\n",
       "      <th>770</th>\n",
       "      <td>1</td>\n",
       "      <td>2</td>\n",
       "      <td>27</td>\n",
       "      <td>2</td>\n",
       "      <td>2</td>\n",
       "      <td>1</td>\n",
       "      <td>1</td>\n",
       "      <td>136.0</td>\n",
       "      <td>79.0</td>\n",
       "      <td>94.0</td>\n",
       "      <td>16.0</td>\n",
       "      <td>36.2</td>\n",
       "      <td>5</td>\n",
       "      <td>1</td>\n",
       "      <td>5</td>\n",
       "      <td>0</td>\n",
       "      <td>99</td>\n",
       "      <td>0</td>\n",
       "    </tr>\n",
       "    <tr>\n",
       "      <th>270</th>\n",
       "      <td>2</td>\n",
       "      <td>1</td>\n",
       "      <td>72</td>\n",
       "      <td>3</td>\n",
       "      <td>1</td>\n",
       "      <td>1</td>\n",
       "      <td>1</td>\n",
       "      <td>100.0</td>\n",
       "      <td>60.0</td>\n",
       "      <td>99.0</td>\n",
       "      <td>22.0</td>\n",
       "      <td>36.0</td>\n",
       "      <td>2</td>\n",
       "      <td>5</td>\n",
       "      <td>2</td>\n",
       "      <td>0</td>\n",
       "      <td>483</td>\n",
       "      <td>0</td>\n",
       "    </tr>\n",
       "  </tbody>\n",
       "</table>\n",
       "</div>"
      ],
      "text/plain": [
       "     Grupo  Sexo  Edad  Modo_Llegada  Lesion  Estado_Mental  Dolor    SBP  \\\n",
       "62       1     2    71             1       1              1      1  139.0   \n",
       "799      2     1    20             3       1              1      0  120.0   \n",
       "529      1     2    50             3       1              1      1  144.0   \n",
       "770      1     2    27             2       2              1      1  136.0   \n",
       "270      2     1    72             3       1              1      1  100.0   \n",
       "\n",
       "      DBP    HR    RR    BT  KTAS_enfermera  Disposicion  KTAS_experto  \\\n",
       "62   94.0  88.0  20.0  36.5               4            1             5   \n",
       "799  70.0  78.0  24.0  36.0               4            1             4   \n",
       "529  89.0  74.0  20.0  36.0               4            1             4   \n",
       "770  79.0  94.0  16.0  36.2               5            1             5   \n",
       "270  60.0  99.0  22.0  36.0               2            5             2   \n",
       "\n",
       "     Grupo_De_Error  Duracion_Estancia_Min  Error_Triaje  \n",
       "62                6                    108             1  \n",
       "799               0                    190             0  \n",
       "529               0                     16             0  \n",
       "770               0                     99             0  \n",
       "270               0                    483             0  "
      ]
     },
     "execution_count": 23,
     "metadata": {},
     "output_type": "execute_result"
    }
   ],
   "source": [
    "dataCopy.sample(5)"
   ]
  },
  {
   "cell_type": "markdown",
   "metadata": {},
   "source": [
    "Después, borraremos los outliers muy extremos de la variable Duración_Estancia_Min. Esto lo vamos a hacer a partir de del valor de 50.000 ya que hay valores muy extremos sobre este valore que pueden alterar la forma en la que K-Means genera los grupos."
   ]
  },
  {
   "cell_type": "code",
   "execution_count": 24,
   "metadata": {},
   "outputs": [],
   "source": [
    "dataCopy = dataCopy[dataCopy[\"Duracion_Estancia_Min\"]<=50000]"
   ]
  },
  {
   "cell_type": "code",
   "execution_count": 25,
   "metadata": {},
   "outputs": [
    {
     "name": "stderr",
     "output_type": "stream",
     "text": [
      "C:\\Users\\silva\\AppData\\Local\\Temp\\ipykernel_34456\\3758273055.py:2: FutureWarning: A value is trying to be set on a copy of a DataFrame or Series through chained assignment using an inplace method.\n",
      "The behavior will change in pandas 3.0. This inplace method will never work because the intermediate object on which we are setting values always behaves as a copy.\n",
      "\n",
      "For example, when doing 'df[col].method(value, inplace=True)', try using 'df.method({col: value}, inplace=True)' or df[col] = df[col].method(value) instead, to perform the operation inplace on the original object.\n",
      "\n",
      "\n",
      "  dataCopy['SBP'].fillna(dataCopy['SBP'].median(), inplace=True)\n",
      "C:\\Users\\silva\\AppData\\Local\\Temp\\ipykernel_34456\\3758273055.py:3: FutureWarning: A value is trying to be set on a copy of a DataFrame or Series through chained assignment using an inplace method.\n",
      "The behavior will change in pandas 3.0. This inplace method will never work because the intermediate object on which we are setting values always behaves as a copy.\n",
      "\n",
      "For example, when doing 'df[col].method(value, inplace=True)', try using 'df.method({col: value}, inplace=True)' or df[col] = df[col].method(value) instead, to perform the operation inplace on the original object.\n",
      "\n",
      "\n",
      "  dataCopy['DBP'].fillna(dataCopy['DBP'].median(), inplace=True)\n",
      "C:\\Users\\silva\\AppData\\Local\\Temp\\ipykernel_34456\\3758273055.py:4: FutureWarning: A value is trying to be set on a copy of a DataFrame or Series through chained assignment using an inplace method.\n",
      "The behavior will change in pandas 3.0. This inplace method will never work because the intermediate object on which we are setting values always behaves as a copy.\n",
      "\n",
      "For example, when doing 'df[col].method(value, inplace=True)', try using 'df.method({col: value}, inplace=True)' or df[col] = df[col].method(value) instead, to perform the operation inplace on the original object.\n",
      "\n",
      "\n",
      "  dataCopy['HR'].fillna(dataCopy['HR'].median(), inplace=True)\n",
      "C:\\Users\\silva\\AppData\\Local\\Temp\\ipykernel_34456\\3758273055.py:5: FutureWarning: A value is trying to be set on a copy of a DataFrame or Series through chained assignment using an inplace method.\n",
      "The behavior will change in pandas 3.0. This inplace method will never work because the intermediate object on which we are setting values always behaves as a copy.\n",
      "\n",
      "For example, when doing 'df[col].method(value, inplace=True)', try using 'df.method({col: value}, inplace=True)' or df[col] = df[col].method(value) instead, to perform the operation inplace on the original object.\n",
      "\n",
      "\n",
      "  dataCopy['RR'].fillna(dataCopy['RR'].median(), inplace=True)\n",
      "C:\\Users\\silva\\AppData\\Local\\Temp\\ipykernel_34456\\3758273055.py:6: FutureWarning: A value is trying to be set on a copy of a DataFrame or Series through chained assignment using an inplace method.\n",
      "The behavior will change in pandas 3.0. This inplace method will never work because the intermediate object on which we are setting values always behaves as a copy.\n",
      "\n",
      "For example, when doing 'df[col].method(value, inplace=True)', try using 'df.method({col: value}, inplace=True)' or df[col] = df[col].method(value) instead, to perform the operation inplace on the original object.\n",
      "\n",
      "\n",
      "  dataCopy['BT'].fillna(dataCopy['BT'].median(), inplace=True)\n"
     ]
    }
   ],
   "source": [
    "# Imputar las variables fisiológicas con la mediana\n",
    "dataCopy['SBP'].fillna(dataCopy['SBP'].median(), inplace=True)\n",
    "dataCopy['DBP'].fillna(dataCopy['DBP'].median(), inplace=True)\n",
    "dataCopy['HR'].fillna(dataCopy['HR'].median(), inplace=True)\n",
    "dataCopy['RR'].fillna(dataCopy['RR'].median(), inplace=True)\n",
    "dataCopy['BT'].fillna(dataCopy['BT'].median(), inplace=True)"
   ]
  },
  {
   "cell_type": "markdown",
   "metadata": {},
   "source": [
    "Luego, vamos a eliminar los datos duplicados. Esto se hace con el objetivo de evitar sesgos en el modelo."
   ]
  },
  {
   "cell_type": "code",
   "execution_count": 26,
   "metadata": {},
   "outputs": [
    {
     "name": "stdout",
     "output_type": "stream",
     "text": [
      "Grupo                    0\n",
      "Sexo                     0\n",
      "Edad                     0\n",
      "Modo_Llegada             0\n",
      "Lesion                   0\n",
      "Estado_Mental            0\n",
      "Dolor                    0\n",
      "SBP                      0\n",
      "DBP                      0\n",
      "HR                       0\n",
      "RR                       0\n",
      "BT                       0\n",
      "KTAS_enfermera           0\n",
      "Disposicion              0\n",
      "KTAS_experto             0\n",
      "Grupo_De_Error           0\n",
      "Duracion_Estancia_Min    0\n",
      "Error_Triaje             0\n",
      "dtype: int64\n"
     ]
    }
   ],
   "source": [
    "print(dataCopy.isnull().sum())"
   ]
  },
  {
   "cell_type": "markdown",
   "metadata": {},
   "source": [
    "Ya que solucionamos el problema de las variables faltantes, procederemos al tratamiento de las variables categóricas. Como los algoritmos de agrupamiento requieren variables numéricas, vamos a convertir las variables categóricas a un formato numérico."
   ]
  },
  {
   "cell_type": "markdown",
   "metadata": {},
   "source": [
    "Utilizaremos Label Encoding para variables ordinales como KTAS_Enfermera, Estado_Mental, y Disposición, donde los valores tienen un orden implícito, y One-Hot Encoding para variables nominales como Modo_Llegada y Lesion."
   ]
  },
  {
   "cell_type": "code",
   "execution_count": 27,
   "metadata": {},
   "outputs": [],
   "source": [
    "from sklearn.preprocessing import LabelEncoder\n",
    "\n",
    "le = LabelEncoder()\n",
    "dataCopy['KTAS_Enfermera'] = le.fit_transform(dataCopy['KTAS_enfermera'])\n",
    "dataCopy['Estado_Mental'] = le.fit_transform(dataCopy['Estado_Mental'])\n",
    "dataCopy['Disposición'] = le.fit_transform(dataCopy['Disposicion'])\n",
    "\n",
    "dataCopy = pd.get_dummies(dataCopy, columns=['Modo_Llegada', 'Lesion', 'Sexo'], drop_first=True)"
   ]
  },
  {
   "cell_type": "code",
   "execution_count": 28,
   "metadata": {},
   "outputs": [
    {
     "data": {
      "text/html": [
       "<div>\n",
       "<style scoped>\n",
       "    .dataframe tbody tr th:only-of-type {\n",
       "        vertical-align: middle;\n",
       "    }\n",
       "\n",
       "    .dataframe tbody tr th {\n",
       "        vertical-align: top;\n",
       "    }\n",
       "\n",
       "    .dataframe thead th {\n",
       "        text-align: right;\n",
       "    }\n",
       "</style>\n",
       "<table border=\"1\" class=\"dataframe\">\n",
       "  <thead>\n",
       "    <tr style=\"text-align: right;\">\n",
       "      <th></th>\n",
       "      <th>Grupo</th>\n",
       "      <th>Edad</th>\n",
       "      <th>Estado_Mental</th>\n",
       "      <th>Dolor</th>\n",
       "      <th>SBP</th>\n",
       "      <th>DBP</th>\n",
       "      <th>HR</th>\n",
       "      <th>RR</th>\n",
       "      <th>BT</th>\n",
       "      <th>KTAS_enfermera</th>\n",
       "      <th>...</th>\n",
       "      <th>KTAS_Enfermera</th>\n",
       "      <th>Disposición</th>\n",
       "      <th>Modo_Llegada_2</th>\n",
       "      <th>Modo_Llegada_3</th>\n",
       "      <th>Modo_Llegada_4</th>\n",
       "      <th>Modo_Llegada_5</th>\n",
       "      <th>Modo_Llegada_6</th>\n",
       "      <th>Modo_Llegada_7</th>\n",
       "      <th>Lesion_2</th>\n",
       "      <th>Sexo_2</th>\n",
       "    </tr>\n",
       "  </thead>\n",
       "  <tbody>\n",
       "    <tr>\n",
       "      <th>834</th>\n",
       "      <td>1</td>\n",
       "      <td>65</td>\n",
       "      <td>0</td>\n",
       "      <td>1</td>\n",
       "      <td>187.0</td>\n",
       "      <td>103.0</td>\n",
       "      <td>115.0</td>\n",
       "      <td>16.0</td>\n",
       "      <td>35.5</td>\n",
       "      <td>3</td>\n",
       "      <td>...</td>\n",
       "      <td>2</td>\n",
       "      <td>0</td>\n",
       "      <td>False</td>\n",
       "      <td>True</td>\n",
       "      <td>False</td>\n",
       "      <td>False</td>\n",
       "      <td>False</td>\n",
       "      <td>False</td>\n",
       "      <td>False</td>\n",
       "      <td>False</td>\n",
       "    </tr>\n",
       "    <tr>\n",
       "      <th>673</th>\n",
       "      <td>2</td>\n",
       "      <td>22</td>\n",
       "      <td>0</td>\n",
       "      <td>1</td>\n",
       "      <td>100.0</td>\n",
       "      <td>60.0</td>\n",
       "      <td>80.0</td>\n",
       "      <td>20.0</td>\n",
       "      <td>36.0</td>\n",
       "      <td>4</td>\n",
       "      <td>...</td>\n",
       "      <td>3</td>\n",
       "      <td>0</td>\n",
       "      <td>False</td>\n",
       "      <td>True</td>\n",
       "      <td>False</td>\n",
       "      <td>False</td>\n",
       "      <td>False</td>\n",
       "      <td>False</td>\n",
       "      <td>True</td>\n",
       "      <td>False</td>\n",
       "    </tr>\n",
       "    <tr>\n",
       "      <th>951</th>\n",
       "      <td>1</td>\n",
       "      <td>81</td>\n",
       "      <td>0</td>\n",
       "      <td>1</td>\n",
       "      <td>90.0</td>\n",
       "      <td>55.0</td>\n",
       "      <td>53.0</td>\n",
       "      <td>20.0</td>\n",
       "      <td>36.0</td>\n",
       "      <td>3</td>\n",
       "      <td>...</td>\n",
       "      <td>2</td>\n",
       "      <td>1</td>\n",
       "      <td>True</td>\n",
       "      <td>False</td>\n",
       "      <td>False</td>\n",
       "      <td>False</td>\n",
       "      <td>False</td>\n",
       "      <td>False</td>\n",
       "      <td>True</td>\n",
       "      <td>True</td>\n",
       "    </tr>\n",
       "    <tr>\n",
       "      <th>303</th>\n",
       "      <td>2</td>\n",
       "      <td>25</td>\n",
       "      <td>0</td>\n",
       "      <td>1</td>\n",
       "      <td>110.0</td>\n",
       "      <td>70.0</td>\n",
       "      <td>84.0</td>\n",
       "      <td>20.0</td>\n",
       "      <td>36.0</td>\n",
       "      <td>5</td>\n",
       "      <td>...</td>\n",
       "      <td>4</td>\n",
       "      <td>0</td>\n",
       "      <td>False</td>\n",
       "      <td>True</td>\n",
       "      <td>False</td>\n",
       "      <td>False</td>\n",
       "      <td>False</td>\n",
       "      <td>False</td>\n",
       "      <td>True</td>\n",
       "      <td>True</td>\n",
       "    </tr>\n",
       "    <tr>\n",
       "      <th>652</th>\n",
       "      <td>2</td>\n",
       "      <td>30</td>\n",
       "      <td>0</td>\n",
       "      <td>1</td>\n",
       "      <td>120.0</td>\n",
       "      <td>70.0</td>\n",
       "      <td>95.0</td>\n",
       "      <td>20.0</td>\n",
       "      <td>36.5</td>\n",
       "      <td>4</td>\n",
       "      <td>...</td>\n",
       "      <td>3</td>\n",
       "      <td>0</td>\n",
       "      <td>False</td>\n",
       "      <td>True</td>\n",
       "      <td>False</td>\n",
       "      <td>False</td>\n",
       "      <td>False</td>\n",
       "      <td>False</td>\n",
       "      <td>False</td>\n",
       "      <td>False</td>\n",
       "    </tr>\n",
       "  </tbody>\n",
       "</table>\n",
       "<p>5 rows × 25 columns</p>\n",
       "</div>"
      ],
      "text/plain": [
       "     Grupo  Edad  Estado_Mental  Dolor    SBP    DBP     HR    RR    BT  \\\n",
       "834      1    65              0      1  187.0  103.0  115.0  16.0  35.5   \n",
       "673      2    22              0      1  100.0   60.0   80.0  20.0  36.0   \n",
       "951      1    81              0      1   90.0   55.0   53.0  20.0  36.0   \n",
       "303      2    25              0      1  110.0   70.0   84.0  20.0  36.0   \n",
       "652      2    30              0      1  120.0   70.0   95.0  20.0  36.5   \n",
       "\n",
       "     KTAS_enfermera  ...  KTAS_Enfermera  Disposición  Modo_Llegada_2  \\\n",
       "834               3  ...               2            0           False   \n",
       "673               4  ...               3            0           False   \n",
       "951               3  ...               2            1            True   \n",
       "303               5  ...               4            0           False   \n",
       "652               4  ...               3            0           False   \n",
       "\n",
       "     Modo_Llegada_3  Modo_Llegada_4  Modo_Llegada_5  Modo_Llegada_6  \\\n",
       "834            True           False           False           False   \n",
       "673            True           False           False           False   \n",
       "951           False           False           False           False   \n",
       "303            True           False           False           False   \n",
       "652            True           False           False           False   \n",
       "\n",
       "     Modo_Llegada_7  Lesion_2  Sexo_2  \n",
       "834           False     False   False  \n",
       "673           False      True   False  \n",
       "951           False      True    True  \n",
       "303           False      True    True  \n",
       "652           False     False   False  \n",
       "\n",
       "[5 rows x 25 columns]"
      ]
     },
     "execution_count": 28,
     "metadata": {},
     "output_type": "execute_result"
    }
   ],
   "source": [
    "dataCopy.sample(5)"
   ]
  },
  {
   "cell_type": "code",
   "execution_count": 29,
   "metadata": {},
   "outputs": [
    {
     "name": "stdout",
     "output_type": "stream",
     "text": [
      "   Grupo  Edad  Estado_Mental  Dolor    SBP   DBP     HR    RR    BT  \\\n",
      "0      2    49              0      1  150.0  90.0   92.0  20.0  36.2   \n",
      "1      2    30              0      1  140.0  80.0   76.0  20.0  36.3   \n",
      "2      2    61              0      1  100.0  60.0   84.0  20.0  36.4   \n",
      "3      2    61              0      1  120.0  70.0   76.0  20.0  36.5   \n",
      "4      1    67              0      0  143.0  70.0  130.0  20.0  38.1   \n",
      "\n",
      "   KTAS_enfermera  ...  KTAS_Enfermera  Disposición  Modo_Llegada_2  \\\n",
      "0               2  ...               1            1            True   \n",
      "1               3  ...               2            6           False   \n",
      "2               4  ...               3            0           False   \n",
      "3               4  ...               3            0           False   \n",
      "4               4  ...               3            0           False   \n",
      "\n",
      "   Modo_Llegada_3  Modo_Llegada_4  Modo_Llegada_5  Modo_Llegada_6  \\\n",
      "0           False           False           False           False   \n",
      "1           False            True           False           False   \n",
      "2            True           False           False           False   \n",
      "3            True           False           False           False   \n",
      "4            True           False           False           False   \n",
      "\n",
      "   Modo_Llegada_7  Lesion_2  Sexo_2  \n",
      "0           False     False    True  \n",
      "1           False     False    True  \n",
      "2           False      True   False  \n",
      "3           False     False    True  \n",
      "4           False     False    True  \n",
      "\n",
      "[5 rows x 25 columns]\n"
     ]
    }
   ],
   "source": [
    "print(dataCopy.head())"
   ]
  },
  {
   "cell_type": "markdown",
   "metadata": {},
   "source": [
    "Al revisar los datos podemos ver que hay algunas entradas que tienen \",\" en lugar de \".\", los que generará un problema en la normalización de los datos. Por lo que es necesario remplazar este carácter y convertir el formato del dato a float."
   ]
  },
  {
   "cell_type": "code",
   "execution_count": 30,
   "metadata": {},
   "outputs": [],
   "source": [
    "# Reemplazar comas por puntos en las columnas que contienen números decimales almacenados como texto\n",
    "#dataCopy['dolor_NRS'] = dataCopy['dolor_NRS'].replace(',', '.', regex=True)"
   ]
  },
  {
   "cell_type": "markdown",
   "metadata": {},
   "source": [
    "Ahora procederemos a realizar una normalización de los datos, puesto que las variables numéricas deben estar en una escala común, especialmente si estamos implementando un algoritmo basado en distancias, como K-means. Es por esto, que normalizaremos las variables fisiológicas, de tiempo, y de edad."
   ]
  },
  {
   "cell_type": "code",
   "execution_count": 31,
   "metadata": {},
   "outputs": [
    {
     "name": "stdout",
     "output_type": "stream",
     "text": [
      "   Grupo      Edad  Estado_Mental  Dolor       SBP       DBP        HR     RR  \\\n",
      "0      2  0.423077              0      1  0.444444  0.457364  0.517241  0.375   \n",
      "1      2  0.179487              0      1  0.400000  0.379845  0.379310  0.375   \n",
      "2      2  0.576923              0      1  0.222222  0.224806  0.448276  0.375   \n",
      "3      2  0.576923              0      1  0.311111  0.302326  0.379310  0.375   \n",
      "4      1  0.653846              0      0  0.413333  0.302326  0.844828  0.375   \n",
      "\n",
      "         BT  KTAS_enfermera  ...  KTAS_Enfermera  Disposición  Modo_Llegada_2  \\\n",
      "0  0.250000               2  ...               1            1            True   \n",
      "1  0.270833               3  ...               2            6           False   \n",
      "2  0.291667               4  ...               3            0           False   \n",
      "3  0.312500               4  ...               3            0           False   \n",
      "4  0.645833               4  ...               3            0           False   \n",
      "\n",
      "   Modo_Llegada_3  Modo_Llegada_4  Modo_Llegada_5  Modo_Llegada_6  \\\n",
      "0           False           False           False           False   \n",
      "1           False            True           False           False   \n",
      "2            True           False           False           False   \n",
      "3            True           False           False           False   \n",
      "4            True           False           False           False   \n",
      "\n",
      "   Modo_Llegada_7  Lesion_2  Sexo_2  \n",
      "0           False     False    True  \n",
      "1           False     False    True  \n",
      "2           False      True   False  \n",
      "3           False     False    True  \n",
      "4           False     False    True  \n",
      "\n",
      "[5 rows x 25 columns]\n"
     ]
    }
   ],
   "source": [
    "from sklearn.preprocessing import MinMaxScaler\n",
    "\n",
    "# Seleccionar las columnas numéricas que queremos normalizar\n",
    "numerical_cols = ['Edad', 'SBP', 'DBP', 'HR', 'RR', 'BT', 'Duracion_Estancia_Min']\n",
    "\n",
    "# Inicializar el escalador Min-Max y aplicar\n",
    "scaler = MinMaxScaler()\n",
    "dataCopy[numerical_cols] = scaler.fit_transform(dataCopy[numerical_cols])\n",
    "\n",
    "# Revisar los datos normalizados\n",
    "print(dataCopy.head())"
   ]
  },
  {
   "cell_type": "markdown",
   "metadata": {},
   "source": [
    "Por último, vamos a eliminar los registros que tienen datos faltantes ya que, al no ser muchos después de borrar la columna saturación, no se pierde información valiosa para el modelo."
   ]
  },
  {
   "cell_type": "code",
   "execution_count": 32,
   "metadata": {},
   "outputs": [],
   "source": [
    "dataCopy=dataCopy.dropna()"
   ]
  },
  {
   "cell_type": "markdown",
   "metadata": {},
   "source": [
    "Ahora vamos a ver el número de datos y columnas que quedan."
   ]
  },
  {
   "cell_type": "code",
   "execution_count": 33,
   "metadata": {},
   "outputs": [
    {
     "data": {
      "text/plain": [
       "(952, 25)"
      ]
     },
     "execution_count": 33,
     "metadata": {},
     "output_type": "execute_result"
    }
   ],
   "source": [
    "dataCopy.shape"
   ]
  },
  {
   "cell_type": "code",
   "execution_count": 34,
   "metadata": {},
   "outputs": [
    {
     "data": {
      "text/plain": [
       "Grupo                      int64\n",
       "Edad                     float64\n",
       "Estado_Mental              int64\n",
       "Dolor                      int64\n",
       "SBP                      float64\n",
       "DBP                      float64\n",
       "HR                       float64\n",
       "RR                       float64\n",
       "BT                       float64\n",
       "KTAS_enfermera             int64\n",
       "Disposicion                int64\n",
       "KTAS_experto               int64\n",
       "Grupo_De_Error             int64\n",
       "Duracion_Estancia_Min    float64\n",
       "Error_Triaje               int64\n",
       "KTAS_Enfermera             int64\n",
       "Disposición                int64\n",
       "Modo_Llegada_2              bool\n",
       "Modo_Llegada_3              bool\n",
       "Modo_Llegada_4              bool\n",
       "Modo_Llegada_5              bool\n",
       "Modo_Llegada_6              bool\n",
       "Modo_Llegada_7              bool\n",
       "Lesion_2                    bool\n",
       "Sexo_2                      bool\n",
       "dtype: object"
      ]
     },
     "execution_count": 34,
     "metadata": {},
     "output_type": "execute_result"
    }
   ],
   "source": [
    "dataCopy.dtypes"
   ]
  },
  {
   "cell_type": "markdown",
   "metadata": {},
   "source": [
    "## Ajuste de los datos para que esten en una misma escala"
   ]
  },
  {
   "cell_type": "markdown",
   "metadata": {},
   "source": [
    "Para ajustar las variables numéricas para que todas esten en la misma escala, usaremos un Robust Scaler, esto con el propósito de que ajustar los outliers a una escala y que estos no sean tan desproporcionados frente a los demás datos."
   ]
  },
  {
   "cell_type": "code",
   "execution_count": 35,
   "metadata": {},
   "outputs": [],
   "source": [
    "scaler = RobustScaler()"
   ]
  },
  {
   "cell_type": "markdown",
   "metadata": {},
   "source": [
    "Luego, haremos la transformación de los datos."
   ]
  },
  {
   "cell_type": "code",
   "execution_count": 36,
   "metadata": {},
   "outputs": [
    {
     "data": {
      "text/html": [
       "<div>\n",
       "<style scoped>\n",
       "    .dataframe tbody tr th:only-of-type {\n",
       "        vertical-align: middle;\n",
       "    }\n",
       "\n",
       "    .dataframe tbody tr th {\n",
       "        vertical-align: top;\n",
       "    }\n",
       "\n",
       "    .dataframe thead th {\n",
       "        text-align: right;\n",
       "    }\n",
       "</style>\n",
       "<table border=\"1\" class=\"dataframe\">\n",
       "  <thead>\n",
       "    <tr style=\"text-align: right;\">\n",
       "      <th></th>\n",
       "      <th>Grupo</th>\n",
       "      <th>Edad</th>\n",
       "      <th>Estado_Mental</th>\n",
       "      <th>Dolor</th>\n",
       "      <th>SBP</th>\n",
       "      <th>DBP</th>\n",
       "      <th>HR</th>\n",
       "      <th>RR</th>\n",
       "      <th>BT</th>\n",
       "      <th>KTAS_enfermera</th>\n",
       "      <th>...</th>\n",
       "      <th>KTAS_Enfermera</th>\n",
       "      <th>Disposición</th>\n",
       "      <th>Modo_Llegada_2</th>\n",
       "      <th>Modo_Llegada_3</th>\n",
       "      <th>Modo_Llegada_4</th>\n",
       "      <th>Modo_Llegada_5</th>\n",
       "      <th>Modo_Llegada_6</th>\n",
       "      <th>Modo_Llegada_7</th>\n",
       "      <th>Lesion_2</th>\n",
       "      <th>Sexo_2</th>\n",
       "    </tr>\n",
       "  </thead>\n",
       "  <tbody>\n",
       "    <tr>\n",
       "      <th>0</th>\n",
       "      <td>1.0</td>\n",
       "      <td>-0.220588</td>\n",
       "      <td>0.0</td>\n",
       "      <td>0.0</td>\n",
       "      <td>0.571429</td>\n",
       "      <td>0.5</td>\n",
       "      <td>0.454545</td>\n",
       "      <td>0.0</td>\n",
       "      <td>-0.500000</td>\n",
       "      <td>-1.0</td>\n",
       "      <td>...</td>\n",
       "      <td>-1.0</td>\n",
       "      <td>1.0</td>\n",
       "      <td>1.0</td>\n",
       "      <td>-1.0</td>\n",
       "      <td>0.0</td>\n",
       "      <td>0.0</td>\n",
       "      <td>0.0</td>\n",
       "      <td>0.0</td>\n",
       "      <td>0.0</td>\n",
       "      <td>0.0</td>\n",
       "    </tr>\n",
       "    <tr>\n",
       "      <th>1</th>\n",
       "      <td>1.0</td>\n",
       "      <td>-0.779412</td>\n",
       "      <td>0.0</td>\n",
       "      <td>0.0</td>\n",
       "      <td>0.285714</td>\n",
       "      <td>0.0</td>\n",
       "      <td>-0.272727</td>\n",
       "      <td>0.0</td>\n",
       "      <td>-0.333333</td>\n",
       "      <td>0.0</td>\n",
       "      <td>...</td>\n",
       "      <td>0.0</td>\n",
       "      <td>6.0</td>\n",
       "      <td>0.0</td>\n",
       "      <td>-1.0</td>\n",
       "      <td>1.0</td>\n",
       "      <td>0.0</td>\n",
       "      <td>0.0</td>\n",
       "      <td>0.0</td>\n",
       "      <td>0.0</td>\n",
       "      <td>0.0</td>\n",
       "    </tr>\n",
       "    <tr>\n",
       "      <th>2</th>\n",
       "      <td>1.0</td>\n",
       "      <td>0.132353</td>\n",
       "      <td>0.0</td>\n",
       "      <td>0.0</td>\n",
       "      <td>-0.857143</td>\n",
       "      <td>-1.0</td>\n",
       "      <td>0.090909</td>\n",
       "      <td>0.0</td>\n",
       "      <td>-0.166667</td>\n",
       "      <td>1.0</td>\n",
       "      <td>...</td>\n",
       "      <td>1.0</td>\n",
       "      <td>0.0</td>\n",
       "      <td>0.0</td>\n",
       "      <td>0.0</td>\n",
       "      <td>0.0</td>\n",
       "      <td>0.0</td>\n",
       "      <td>0.0</td>\n",
       "      <td>0.0</td>\n",
       "      <td>1.0</td>\n",
       "      <td>-1.0</td>\n",
       "    </tr>\n",
       "    <tr>\n",
       "      <th>3</th>\n",
       "      <td>1.0</td>\n",
       "      <td>0.132353</td>\n",
       "      <td>0.0</td>\n",
       "      <td>0.0</td>\n",
       "      <td>-0.285714</td>\n",
       "      <td>-0.5</td>\n",
       "      <td>-0.272727</td>\n",
       "      <td>0.0</td>\n",
       "      <td>0.000000</td>\n",
       "      <td>1.0</td>\n",
       "      <td>...</td>\n",
       "      <td>1.0</td>\n",
       "      <td>0.0</td>\n",
       "      <td>0.0</td>\n",
       "      <td>0.0</td>\n",
       "      <td>0.0</td>\n",
       "      <td>0.0</td>\n",
       "      <td>0.0</td>\n",
       "      <td>0.0</td>\n",
       "      <td>0.0</td>\n",
       "      <td>0.0</td>\n",
       "    </tr>\n",
       "    <tr>\n",
       "      <th>4</th>\n",
       "      <td>0.0</td>\n",
       "      <td>0.308824</td>\n",
       "      <td>0.0</td>\n",
       "      <td>-1.0</td>\n",
       "      <td>0.371429</td>\n",
       "      <td>-0.5</td>\n",
       "      <td>2.181818</td>\n",
       "      <td>0.0</td>\n",
       "      <td>2.666667</td>\n",
       "      <td>1.0</td>\n",
       "      <td>...</td>\n",
       "      <td>1.0</td>\n",
       "      <td>0.0</td>\n",
       "      <td>0.0</td>\n",
       "      <td>0.0</td>\n",
       "      <td>0.0</td>\n",
       "      <td>0.0</td>\n",
       "      <td>0.0</td>\n",
       "      <td>0.0</td>\n",
       "      <td>0.0</td>\n",
       "      <td>0.0</td>\n",
       "    </tr>\n",
       "    <tr>\n",
       "      <th>...</th>\n",
       "      <td>...</td>\n",
       "      <td>...</td>\n",
       "      <td>...</td>\n",
       "      <td>...</td>\n",
       "      <td>...</td>\n",
       "      <td>...</td>\n",
       "      <td>...</td>\n",
       "      <td>...</td>\n",
       "      <td>...</td>\n",
       "      <td>...</td>\n",
       "      <td>...</td>\n",
       "      <td>...</td>\n",
       "      <td>...</td>\n",
       "      <td>...</td>\n",
       "      <td>...</td>\n",
       "      <td>...</td>\n",
       "      <td>...</td>\n",
       "      <td>...</td>\n",
       "      <td>...</td>\n",
       "      <td>...</td>\n",
       "      <td>...</td>\n",
       "    </tr>\n",
       "    <tr>\n",
       "      <th>947</th>\n",
       "      <td>1.0</td>\n",
       "      <td>0.220588</td>\n",
       "      <td>0.0</td>\n",
       "      <td>-1.0</td>\n",
       "      <td>0.000000</td>\n",
       "      <td>-0.5</td>\n",
       "      <td>0.727273</td>\n",
       "      <td>0.0</td>\n",
       "      <td>-0.166667</td>\n",
       "      <td>0.0</td>\n",
       "      <td>...</td>\n",
       "      <td>0.0</td>\n",
       "      <td>1.0</td>\n",
       "      <td>0.0</td>\n",
       "      <td>0.0</td>\n",
       "      <td>0.0</td>\n",
       "      <td>0.0</td>\n",
       "      <td>0.0</td>\n",
       "      <td>0.0</td>\n",
       "      <td>0.0</td>\n",
       "      <td>0.0</td>\n",
       "    </tr>\n",
       "    <tr>\n",
       "      <th>948</th>\n",
       "      <td>1.0</td>\n",
       "      <td>0.397059</td>\n",
       "      <td>0.0</td>\n",
       "      <td>-1.0</td>\n",
       "      <td>1.428571</td>\n",
       "      <td>1.0</td>\n",
       "      <td>-0.090909</td>\n",
       "      <td>0.0</td>\n",
       "      <td>-0.833333</td>\n",
       "      <td>-1.0</td>\n",
       "      <td>...</td>\n",
       "      <td>-1.0</td>\n",
       "      <td>0.0</td>\n",
       "      <td>0.0</td>\n",
       "      <td>0.0</td>\n",
       "      <td>0.0</td>\n",
       "      <td>0.0</td>\n",
       "      <td>0.0</td>\n",
       "      <td>0.0</td>\n",
       "      <td>0.0</td>\n",
       "      <td>-1.0</td>\n",
       "    </tr>\n",
       "    <tr>\n",
       "      <th>949</th>\n",
       "      <td>1.0</td>\n",
       "      <td>0.544118</td>\n",
       "      <td>0.0</td>\n",
       "      <td>-1.0</td>\n",
       "      <td>-0.285714</td>\n",
       "      <td>0.0</td>\n",
       "      <td>-0.636364</td>\n",
       "      <td>0.0</td>\n",
       "      <td>-0.166667</td>\n",
       "      <td>0.0</td>\n",
       "      <td>...</td>\n",
       "      <td>0.0</td>\n",
       "      <td>1.0</td>\n",
       "      <td>0.0</td>\n",
       "      <td>0.0</td>\n",
       "      <td>0.0</td>\n",
       "      <td>0.0</td>\n",
       "      <td>0.0</td>\n",
       "      <td>0.0</td>\n",
       "      <td>0.0</td>\n",
       "      <td>-1.0</td>\n",
       "    </tr>\n",
       "    <tr>\n",
       "      <th>950</th>\n",
       "      <td>0.0</td>\n",
       "      <td>-0.897059</td>\n",
       "      <td>0.0</td>\n",
       "      <td>-1.0</td>\n",
       "      <td>-0.371429</td>\n",
       "      <td>0.3</td>\n",
       "      <td>0.045455</td>\n",
       "      <td>-2.0</td>\n",
       "      <td>-0.833333</td>\n",
       "      <td>1.0</td>\n",
       "      <td>...</td>\n",
       "      <td>1.0</td>\n",
       "      <td>0.0</td>\n",
       "      <td>0.0</td>\n",
       "      <td>0.0</td>\n",
       "      <td>0.0</td>\n",
       "      <td>0.0</td>\n",
       "      <td>0.0</td>\n",
       "      <td>0.0</td>\n",
       "      <td>1.0</td>\n",
       "      <td>-1.0</td>\n",
       "    </tr>\n",
       "    <tr>\n",
       "      <th>951</th>\n",
       "      <td>0.0</td>\n",
       "      <td>0.514706</td>\n",
       "      <td>0.0</td>\n",
       "      <td>-1.0</td>\n",
       "      <td>-1.257143</td>\n",
       "      <td>-0.8</td>\n",
       "      <td>-0.090909</td>\n",
       "      <td>0.0</td>\n",
       "      <td>1.500000</td>\n",
       "      <td>-1.0</td>\n",
       "      <td>...</td>\n",
       "      <td>-1.0</td>\n",
       "      <td>1.0</td>\n",
       "      <td>1.0</td>\n",
       "      <td>-1.0</td>\n",
       "      <td>0.0</td>\n",
       "      <td>0.0</td>\n",
       "      <td>0.0</td>\n",
       "      <td>0.0</td>\n",
       "      <td>0.0</td>\n",
       "      <td>-1.0</td>\n",
       "    </tr>\n",
       "  </tbody>\n",
       "</table>\n",
       "<p>952 rows × 25 columns</p>\n",
       "</div>"
      ],
      "text/plain": [
       "     Grupo      Edad  Estado_Mental  Dolor       SBP  DBP        HR   RR  \\\n",
       "0      1.0 -0.220588            0.0    0.0  0.571429  0.5  0.454545  0.0   \n",
       "1      1.0 -0.779412            0.0    0.0  0.285714  0.0 -0.272727  0.0   \n",
       "2      1.0  0.132353            0.0    0.0 -0.857143 -1.0  0.090909  0.0   \n",
       "3      1.0  0.132353            0.0    0.0 -0.285714 -0.5 -0.272727  0.0   \n",
       "4      0.0  0.308824            0.0   -1.0  0.371429 -0.5  2.181818  0.0   \n",
       "..     ...       ...            ...    ...       ...  ...       ...  ...   \n",
       "947    1.0  0.220588            0.0   -1.0  0.000000 -0.5  0.727273  0.0   \n",
       "948    1.0  0.397059            0.0   -1.0  1.428571  1.0 -0.090909  0.0   \n",
       "949    1.0  0.544118            0.0   -1.0 -0.285714  0.0 -0.636364  0.0   \n",
       "950    0.0 -0.897059            0.0   -1.0 -0.371429  0.3  0.045455 -2.0   \n",
       "951    0.0  0.514706            0.0   -1.0 -1.257143 -0.8 -0.090909  0.0   \n",
       "\n",
       "           BT  KTAS_enfermera  ...  KTAS_Enfermera  Disposición  \\\n",
       "0   -0.500000            -1.0  ...            -1.0          1.0   \n",
       "1   -0.333333             0.0  ...             0.0          6.0   \n",
       "2   -0.166667             1.0  ...             1.0          0.0   \n",
       "3    0.000000             1.0  ...             1.0          0.0   \n",
       "4    2.666667             1.0  ...             1.0          0.0   \n",
       "..        ...             ...  ...             ...          ...   \n",
       "947 -0.166667             0.0  ...             0.0          1.0   \n",
       "948 -0.833333            -1.0  ...            -1.0          0.0   \n",
       "949 -0.166667             0.0  ...             0.0          1.0   \n",
       "950 -0.833333             1.0  ...             1.0          0.0   \n",
       "951  1.500000            -1.0  ...            -1.0          1.0   \n",
       "\n",
       "     Modo_Llegada_2  Modo_Llegada_3  Modo_Llegada_4  Modo_Llegada_5  \\\n",
       "0               1.0            -1.0             0.0             0.0   \n",
       "1               0.0            -1.0             1.0             0.0   \n",
       "2               0.0             0.0             0.0             0.0   \n",
       "3               0.0             0.0             0.0             0.0   \n",
       "4               0.0             0.0             0.0             0.0   \n",
       "..              ...             ...             ...             ...   \n",
       "947             0.0             0.0             0.0             0.0   \n",
       "948             0.0             0.0             0.0             0.0   \n",
       "949             0.0             0.0             0.0             0.0   \n",
       "950             0.0             0.0             0.0             0.0   \n",
       "951             1.0            -1.0             0.0             0.0   \n",
       "\n",
       "     Modo_Llegada_6  Modo_Llegada_7  Lesion_2  Sexo_2  \n",
       "0               0.0             0.0       0.0     0.0  \n",
       "1               0.0             0.0       0.0     0.0  \n",
       "2               0.0             0.0       1.0    -1.0  \n",
       "3               0.0             0.0       0.0     0.0  \n",
       "4               0.0             0.0       0.0     0.0  \n",
       "..              ...             ...       ...     ...  \n",
       "947             0.0             0.0       0.0     0.0  \n",
       "948             0.0             0.0       0.0    -1.0  \n",
       "949             0.0             0.0       0.0    -1.0  \n",
       "950             0.0             0.0       1.0    -1.0  \n",
       "951             0.0             0.0       0.0    -1.0  \n",
       "\n",
       "[952 rows x 25 columns]"
      ]
     },
     "execution_count": 36,
     "metadata": {},
     "output_type": "execute_result"
    }
   ],
   "source": [
    "scaled_data = scaler.fit_transform(dataCopy)\n",
    "scaled_df = pd.DataFrame(scaled_data, columns=dataCopy.columns)\n",
    "scaled_df"
   ]
  },
  {
   "cell_type": "markdown",
   "metadata": {},
   "source": [
    "## Modelamiento de K Means"
   ]
  },
  {
   "cell_type": "markdown",
   "metadata": {},
   "source": [
    "Una vez que hemos limpiado y preparado los datos, podemos proceder a implementar un modelo de agrupamiento. Para empezar, vamos a usar K-means para ver si podemos identificar grupos de pacientes con características similares. "
   ]
  },
  {
   "cell_type": "code",
   "execution_count": 37,
   "metadata": {},
   "outputs": [
    {
     "name": "stdout",
     "output_type": "stream",
     "text": [
      "Cluster\n",
      "1    564\n",
      "2    296\n",
      "0     92\n",
      "Name: count, dtype: int64\n"
     ]
    }
   ],
   "source": [
    "kmeans = KMeans(n_clusters=3, random_state=42)\n",
    "\n",
    "kmeans.fit(dataCopy)\n",
    "dataCopy['Cluster'] = kmeans.labels_\n",
    "\n",
    "print(dataCopy['Cluster'].value_counts())"
   ]
  },
  {
   "cell_type": "markdown",
   "metadata": {},
   "source": [
    "### Método de silueta para el mejor modelo de K-Means"
   ]
  },
  {
   "cell_type": "code",
   "execution_count": null,
   "metadata": {},
   "outputs": [],
   "source": []
  }
 ],
 "metadata": {
  "kernelspec": {
   "display_name": "base",
   "language": "python",
   "name": "python3"
  },
  "language_info": {
   "codemirror_mode": {
    "name": "ipython",
    "version": 3
   },
   "file_extension": ".py",
   "mimetype": "text/x-python",
   "name": "python",
   "nbconvert_exporter": "python",
   "pygments_lexer": "ipython3",
   "version": "3.12.3"
  }
 },
 "nbformat": 4,
 "nbformat_minor": 2
}
